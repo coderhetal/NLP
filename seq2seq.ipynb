{
  "nbformat": 4,
  "nbformat_minor": 0,
  "metadata": {
    "colab": {
      "provenance": [],
      "gpuType": "T4",
      "include_colab_link": true
    },
    "kernelspec": {
      "name": "python3",
      "display_name": "Python 3"
    },
    "language_info": {
      "name": "python"
    },
    "accelerator": "GPU"
  },
  "cells": [
    {
      "cell_type": "markdown",
      "metadata": {
        "id": "view-in-github",
        "colab_type": "text"
      },
      "source": [
        "<a href=\"https://colab.research.google.com/github/coderhetal/NLP/blob/main/seq2seq.ipynb\" target=\"_parent\"><img src=\"https://colab.research.google.com/assets/colab-badge.svg\" alt=\"Open In Colab\"/></a>"
      ]
    },
    {
      "cell_type": "markdown",
      "metadata": {
        "id": "0vMmNxPO4auy"
      },
      "source": [
        "## Installing Packages"
      ]
    },
    {
      "cell_type": "markdown",
      "metadata": {
        "id": "WFT_Sa7K_849"
      },
      "source": [
        "Run this cell only if torchtext reports an error while importing bleu_score."
      ]
    },
    {
      "cell_type": "code",
      "metadata": {
        "id": "Lco2NiA8_2QL",
        "colab": {
          "base_uri": "https://localhost:8080/"
        },
        "outputId": "f1c3cef2-b223-4e4e-edd5-05d8085d525c"
      },
      "source": [
        "!pip install torchtext==0.6.0"
      ],
      "execution_count": 1,
      "outputs": [
        {
          "output_type": "stream",
          "name": "stdout",
          "text": [
            "Collecting torchtext==0.6.0\n",
            "  Downloading torchtext-0.6.0-py3-none-any.whl (64 kB)\n",
            "\u001b[?25l     \u001b[90m━━━━━━━━━━━━━━━━━━━━━━━━━━━━━━━━━━━━━━━━\u001b[0m \u001b[32m0.0/64.2 kB\u001b[0m \u001b[31m?\u001b[0m eta \u001b[36m-:--:--\u001b[0m\r\u001b[2K     \u001b[90m━━━━━━━━━━━━━━━━━━━━━━━━━━━━━━━━━━━━━━━━\u001b[0m \u001b[32m64.2/64.2 kB\u001b[0m \u001b[31m4.5 MB/s\u001b[0m eta \u001b[36m0:00:00\u001b[0m\n",
            "\u001b[?25hRequirement already satisfied: tqdm in /usr/local/lib/python3.10/dist-packages (from torchtext==0.6.0) (4.65.0)\n",
            "Requirement already satisfied: requests in /usr/local/lib/python3.10/dist-packages (from torchtext==0.6.0) (2.27.1)\n",
            "Requirement already satisfied: torch in /usr/local/lib/python3.10/dist-packages (from torchtext==0.6.0) (2.0.1+cu118)\n",
            "Requirement already satisfied: numpy in /usr/local/lib/python3.10/dist-packages (from torchtext==0.6.0) (1.22.4)\n",
            "Requirement already satisfied: six in /usr/local/lib/python3.10/dist-packages (from torchtext==0.6.0) (1.16.0)\n",
            "Collecting sentencepiece (from torchtext==0.6.0)\n",
            "  Downloading sentencepiece-0.1.99-cp310-cp310-manylinux_2_17_x86_64.manylinux2014_x86_64.whl (1.3 MB)\n",
            "\u001b[2K     \u001b[90m━━━━━━━━━━━━━━━━━━━━━━━━━━━━━━━━━━━━━━━━\u001b[0m \u001b[32m1.3/1.3 MB\u001b[0m \u001b[31m35.3 MB/s\u001b[0m eta \u001b[36m0:00:00\u001b[0m\n",
            "\u001b[?25hRequirement already satisfied: urllib3<1.27,>=1.21.1 in /usr/local/lib/python3.10/dist-packages (from requests->torchtext==0.6.0) (1.26.16)\n",
            "Requirement already satisfied: certifi>=2017.4.17 in /usr/local/lib/python3.10/dist-packages (from requests->torchtext==0.6.0) (2023.5.7)\n",
            "Requirement already satisfied: charset-normalizer~=2.0.0 in /usr/local/lib/python3.10/dist-packages (from requests->torchtext==0.6.0) (2.0.12)\n",
            "Requirement already satisfied: idna<4,>=2.5 in /usr/local/lib/python3.10/dist-packages (from requests->torchtext==0.6.0) (3.4)\n",
            "Requirement already satisfied: filelock in /usr/local/lib/python3.10/dist-packages (from torch->torchtext==0.6.0) (3.12.2)\n",
            "Requirement already satisfied: typing-extensions in /usr/local/lib/python3.10/dist-packages (from torch->torchtext==0.6.0) (4.6.3)\n",
            "Requirement already satisfied: sympy in /usr/local/lib/python3.10/dist-packages (from torch->torchtext==0.6.0) (1.11.1)\n",
            "Requirement already satisfied: networkx in /usr/local/lib/python3.10/dist-packages (from torch->torchtext==0.6.0) (3.1)\n",
            "Requirement already satisfied: jinja2 in /usr/local/lib/python3.10/dist-packages (from torch->torchtext==0.6.0) (3.1.2)\n",
            "Requirement already satisfied: triton==2.0.0 in /usr/local/lib/python3.10/dist-packages (from torch->torchtext==0.6.0) (2.0.0)\n",
            "Requirement already satisfied: cmake in /usr/local/lib/python3.10/dist-packages (from triton==2.0.0->torch->torchtext==0.6.0) (3.25.2)\n",
            "Requirement already satisfied: lit in /usr/local/lib/python3.10/dist-packages (from triton==2.0.0->torch->torchtext==0.6.0) (16.0.6)\n",
            "Requirement already satisfied: MarkupSafe>=2.0 in /usr/local/lib/python3.10/dist-packages (from jinja2->torch->torchtext==0.6.0) (2.1.3)\n",
            "Requirement already satisfied: mpmath>=0.19 in /usr/local/lib/python3.10/dist-packages (from sympy->torch->torchtext==0.6.0) (1.3.0)\n",
            "Installing collected packages: sentencepiece, torchtext\n",
            "  Attempting uninstall: torchtext\n",
            "    Found existing installation: torchtext 0.15.2\n",
            "    Uninstalling torchtext-0.15.2:\n",
            "      Successfully uninstalled torchtext-0.15.2\n",
            "Successfully installed sentencepiece-0.1.99 torchtext-0.6.0\n"
          ]
        }
      ]
    },
    {
      "cell_type": "markdown",
      "metadata": {
        "id": "md3SiiuBAJQd"
      },
      "source": [
        "##Importing Required Libraries\n",
        "\n",
        "\n"
      ]
    },
    {
      "cell_type": "code",
      "metadata": {
        "id": "otWCSsw55jCu"
      },
      "source": [
        "from google.colab import drive\n",
        "import math\n",
        "import matplotlib.pyplot as plt\n",
        "import matplotlib.ticker as ticker\n",
        "import nltk\n",
        "import numpy as np\n",
        "import random\n",
        "import spacy\n",
        "import time\n",
        "import torch\n",
        "import torch.nn as nn\n",
        "import torch.nn.functional as F\n",
        "import torch.optim as optim\n",
        "from torchtext.datasets import TranslationDataset, Multi30k\n",
        "from torchtext.data import Field, BucketIterator\n",
        "from torchtext.data.metrics import bleu_score"
      ],
      "execution_count": 3,
      "outputs": []
    },
    {
      "cell_type": "code",
      "metadata": {
        "id": "jm3qY8NX4X15",
        "colab": {
          "base_uri": "https://localhost:8080/"
        },
        "outputId": "69259051-137f-4fe0-d80f-3c022e040a5f"
      },
      "source": [
        "device = torch.device(\"cuda\" if torch.cuda.is_available() else \"cpu\")\n",
        "print(\"Notebook is running on\", device)"
      ],
      "execution_count": 19,
      "outputs": [
        {
          "output_type": "stream",
          "name": "stdout",
          "text": [
            "Notebook is running on cuda\n"
          ]
        }
      ]
    },
    {
      "cell_type": "markdown",
      "metadata": {
        "id": "rbUcRoSCWToP"
      },
      "source": [
        "Fixing SEED for reproducibility of results"
      ]
    },
    {
      "cell_type": "code",
      "metadata": {
        "id": "Ui3GACuhWNle"
      },
      "source": [
        "SEED = 4444\n",
        "\n",
        "random.seed(SEED)\n",
        "np.random.seed(SEED)\n",
        "torch.manual_seed(SEED)\n",
        "torch.cuda.manual_seed(SEED)\n",
        "torch.backends.cudnn.deterministic = True"
      ],
      "execution_count": 20,
      "outputs": []
    },
    {
      "cell_type": "markdown",
      "metadata": {
        "id": "3W54CdK7Kcml"
      },
      "source": [
        "## Fetching Spacy Models"
      ]
    },
    {
      "cell_type": "code",
      "source": [
        "import locale\n",
        "locale.getpreferredencoding = lambda: \"UTF-8\""
      ],
      "metadata": {
        "id": "PfOxW54H_7m0"
      },
      "execution_count": 21,
      "outputs": []
    },
    {
      "cell_type": "code",
      "source": [
        "!pip install -U spacy\n",
        "!python -m spacy download en_core_web_sm\n",
        "!python -m spacy download de_core_news_sm"
      ],
      "metadata": {
        "colab": {
          "base_uri": "https://localhost:8080/"
        },
        "id": "BI6jTDOs_ESM",
        "outputId": "35c0a7e2-92af-4398-f039-2f518e471d45"
      },
      "execution_count": 1,
      "outputs": [
        {
          "output_type": "stream",
          "name": "stdout",
          "text": [
            "Requirement already satisfied: spacy in /usr/local/lib/python3.10/dist-packages (3.6.0)\n",
            "Requirement already satisfied: spacy-legacy<3.1.0,>=3.0.11 in /usr/local/lib/python3.10/dist-packages (from spacy) (3.0.12)\n",
            "Requirement already satisfied: spacy-loggers<2.0.0,>=1.0.0 in /usr/local/lib/python3.10/dist-packages (from spacy) (1.0.4)\n",
            "Requirement already satisfied: murmurhash<1.1.0,>=0.28.0 in /usr/local/lib/python3.10/dist-packages (from spacy) (1.0.9)\n",
            "Requirement already satisfied: cymem<2.1.0,>=2.0.2 in /usr/local/lib/python3.10/dist-packages (from spacy) (2.0.7)\n",
            "Requirement already satisfied: preshed<3.1.0,>=3.0.2 in /usr/local/lib/python3.10/dist-packages (from spacy) (3.0.8)\n",
            "Requirement already satisfied: thinc<8.2.0,>=8.1.8 in /usr/local/lib/python3.10/dist-packages (from spacy) (8.1.10)\n",
            "Requirement already satisfied: wasabi<1.2.0,>=0.9.1 in /usr/local/lib/python3.10/dist-packages (from spacy) (1.1.2)\n",
            "Requirement already satisfied: srsly<3.0.0,>=2.4.3 in /usr/local/lib/python3.10/dist-packages (from spacy) (2.4.6)\n",
            "Requirement already satisfied: catalogue<2.1.0,>=2.0.6 in /usr/local/lib/python3.10/dist-packages (from spacy) (2.0.8)\n",
            "Requirement already satisfied: typer<0.10.0,>=0.3.0 in /usr/local/lib/python3.10/dist-packages (from spacy) (0.7.0)\n",
            "Requirement already satisfied: pathy>=0.10.0 in /usr/local/lib/python3.10/dist-packages (from spacy) (0.10.2)\n",
            "Requirement already satisfied: smart-open<7.0.0,>=5.2.1 in /usr/local/lib/python3.10/dist-packages (from spacy) (6.3.0)\n",
            "Requirement already satisfied: tqdm<5.0.0,>=4.38.0 in /usr/local/lib/python3.10/dist-packages (from spacy) (4.65.0)\n",
            "Requirement already satisfied: numpy>=1.15.0 in /usr/local/lib/python3.10/dist-packages (from spacy) (1.22.4)\n",
            "Requirement already satisfied: requests<3.0.0,>=2.13.0 in /usr/local/lib/python3.10/dist-packages (from spacy) (2.27.1)\n",
            "Requirement already satisfied: pydantic!=1.8,!=1.8.1,<1.11.0,>=1.7.4 in /usr/local/lib/python3.10/dist-packages (from spacy) (1.10.9)\n",
            "Requirement already satisfied: jinja2 in /usr/local/lib/python3.10/dist-packages (from spacy) (3.1.2)\n",
            "Requirement already satisfied: setuptools in /usr/local/lib/python3.10/dist-packages (from spacy) (67.7.2)\n",
            "Requirement already satisfied: packaging>=20.0 in /usr/local/lib/python3.10/dist-packages (from spacy) (23.1)\n",
            "Requirement already satisfied: langcodes<4.0.0,>=3.2.0 in /usr/local/lib/python3.10/dist-packages (from spacy) (3.3.0)\n",
            "Requirement already satisfied: typing-extensions>=4.2.0 in /usr/local/lib/python3.10/dist-packages (from pydantic!=1.8,!=1.8.1,<1.11.0,>=1.7.4->spacy) (4.6.3)\n",
            "Requirement already satisfied: urllib3<1.27,>=1.21.1 in /usr/local/lib/python3.10/dist-packages (from requests<3.0.0,>=2.13.0->spacy) (1.26.16)\n",
            "Requirement already satisfied: certifi>=2017.4.17 in /usr/local/lib/python3.10/dist-packages (from requests<3.0.0,>=2.13.0->spacy) (2023.5.7)\n",
            "Requirement already satisfied: charset-normalizer~=2.0.0 in /usr/local/lib/python3.10/dist-packages (from requests<3.0.0,>=2.13.0->spacy) (2.0.12)\n",
            "Requirement already satisfied: idna<4,>=2.5 in /usr/local/lib/python3.10/dist-packages (from requests<3.0.0,>=2.13.0->spacy) (3.4)\n",
            "Requirement already satisfied: blis<0.8.0,>=0.7.8 in /usr/local/lib/python3.10/dist-packages (from thinc<8.2.0,>=8.1.8->spacy) (0.7.9)\n",
            "Requirement already satisfied: confection<1.0.0,>=0.0.1 in /usr/local/lib/python3.10/dist-packages (from thinc<8.2.0,>=8.1.8->spacy) (0.0.4)\n",
            "Requirement already satisfied: click<9.0.0,>=7.1.1 in /usr/local/lib/python3.10/dist-packages (from typer<0.10.0,>=0.3.0->spacy) (8.1.3)\n",
            "Requirement already satisfied: MarkupSafe>=2.0 in /usr/local/lib/python3.10/dist-packages (from jinja2->spacy) (2.1.3)\n",
            "2023-07-07 12:37:10.744083: I tensorflow/core/platform/cpu_feature_guard.cc:182] This TensorFlow binary is optimized to use available CPU instructions in performance-critical operations.\n",
            "To enable the following instructions: AVX2 FMA, in other operations, rebuild TensorFlow with the appropriate compiler flags.\n",
            "2023-07-07 12:37:12.642723: W tensorflow/compiler/tf2tensorrt/utils/py_utils.cc:38] TF-TRT Warning: Could not find TensorRT\n",
            "2023-07-07 12:37:15.272204: I tensorflow/compiler/xla/stream_executor/cuda/cuda_gpu_executor.cc:996] successful NUMA node read from SysFS had negative value (-1), but there must be at least one NUMA node, so returning NUMA node zero. See more at https://github.com/torvalds/linux/blob/v6.0/Documentation/ABI/testing/sysfs-bus-pci#L344-L355\n",
            "2023-07-07 12:37:15.275976: I tensorflow/compiler/xla/stream_executor/cuda/cuda_gpu_executor.cc:996] successful NUMA node read from SysFS had negative value (-1), but there must be at least one NUMA node, so returning NUMA node zero. See more at https://github.com/torvalds/linux/blob/v6.0/Documentation/ABI/testing/sysfs-bus-pci#L344-L355\n",
            "2023-07-07 12:37:15.276220: I tensorflow/compiler/xla/stream_executor/cuda/cuda_gpu_executor.cc:996] successful NUMA node read from SysFS had negative value (-1), but there must be at least one NUMA node, so returning NUMA node zero. See more at https://github.com/torvalds/linux/blob/v6.0/Documentation/ABI/testing/sysfs-bus-pci#L344-L355\n",
            "Collecting en-core-web-sm==3.6.0\n",
            "  Downloading https://github.com/explosion/spacy-models/releases/download/en_core_web_sm-3.6.0/en_core_web_sm-3.6.0-py3-none-any.whl (12.8 MB)\n",
            "\u001b[2K     \u001b[90m━━━━━━━━━━━━━━━━━━━━━━━━━━━━━━━━━━━━━━━━\u001b[0m \u001b[32m12.8/12.8 MB\u001b[0m \u001b[31m28.3 MB/s\u001b[0m eta \u001b[36m0:00:00\u001b[0m\n",
            "\u001b[?25hRequirement already satisfied: spacy<3.7.0,>=3.6.0 in /usr/local/lib/python3.10/dist-packages (from en-core-web-sm==3.6.0) (3.6.0)\n",
            "Requirement already satisfied: spacy-legacy<3.1.0,>=3.0.11 in /usr/local/lib/python3.10/dist-packages (from spacy<3.7.0,>=3.6.0->en-core-web-sm==3.6.0) (3.0.12)\n",
            "Requirement already satisfied: spacy-loggers<2.0.0,>=1.0.0 in /usr/local/lib/python3.10/dist-packages (from spacy<3.7.0,>=3.6.0->en-core-web-sm==3.6.0) (1.0.4)\n",
            "Requirement already satisfied: murmurhash<1.1.0,>=0.28.0 in /usr/local/lib/python3.10/dist-packages (from spacy<3.7.0,>=3.6.0->en-core-web-sm==3.6.0) (1.0.9)\n",
            "Requirement already satisfied: cymem<2.1.0,>=2.0.2 in /usr/local/lib/python3.10/dist-packages (from spacy<3.7.0,>=3.6.0->en-core-web-sm==3.6.0) (2.0.7)\n",
            "Requirement already satisfied: preshed<3.1.0,>=3.0.2 in /usr/local/lib/python3.10/dist-packages (from spacy<3.7.0,>=3.6.0->en-core-web-sm==3.6.0) (3.0.8)\n",
            "Requirement already satisfied: thinc<8.2.0,>=8.1.8 in /usr/local/lib/python3.10/dist-packages (from spacy<3.7.0,>=3.6.0->en-core-web-sm==3.6.0) (8.1.10)\n",
            "Requirement already satisfied: wasabi<1.2.0,>=0.9.1 in /usr/local/lib/python3.10/dist-packages (from spacy<3.7.0,>=3.6.0->en-core-web-sm==3.6.0) (1.1.2)\n",
            "Requirement already satisfied: srsly<3.0.0,>=2.4.3 in /usr/local/lib/python3.10/dist-packages (from spacy<3.7.0,>=3.6.0->en-core-web-sm==3.6.0) (2.4.6)\n",
            "Requirement already satisfied: catalogue<2.1.0,>=2.0.6 in /usr/local/lib/python3.10/dist-packages (from spacy<3.7.0,>=3.6.0->en-core-web-sm==3.6.0) (2.0.8)\n",
            "Requirement already satisfied: typer<0.10.0,>=0.3.0 in /usr/local/lib/python3.10/dist-packages (from spacy<3.7.0,>=3.6.0->en-core-web-sm==3.6.0) (0.7.0)\n",
            "Requirement already satisfied: pathy>=0.10.0 in /usr/local/lib/python3.10/dist-packages (from spacy<3.7.0,>=3.6.0->en-core-web-sm==3.6.0) (0.10.2)\n",
            "Requirement already satisfied: smart-open<7.0.0,>=5.2.1 in /usr/local/lib/python3.10/dist-packages (from spacy<3.7.0,>=3.6.0->en-core-web-sm==3.6.0) (6.3.0)\n",
            "Requirement already satisfied: tqdm<5.0.0,>=4.38.0 in /usr/local/lib/python3.10/dist-packages (from spacy<3.7.0,>=3.6.0->en-core-web-sm==3.6.0) (4.65.0)\n",
            "Requirement already satisfied: numpy>=1.15.0 in /usr/local/lib/python3.10/dist-packages (from spacy<3.7.0,>=3.6.0->en-core-web-sm==3.6.0) (1.22.4)\n",
            "Requirement already satisfied: requests<3.0.0,>=2.13.0 in /usr/local/lib/python3.10/dist-packages (from spacy<3.7.0,>=3.6.0->en-core-web-sm==3.6.0) (2.27.1)\n",
            "Requirement already satisfied: pydantic!=1.8,!=1.8.1,<1.11.0,>=1.7.4 in /usr/local/lib/python3.10/dist-packages (from spacy<3.7.0,>=3.6.0->en-core-web-sm==3.6.0) (1.10.9)\n",
            "Requirement already satisfied: jinja2 in /usr/local/lib/python3.10/dist-packages (from spacy<3.7.0,>=3.6.0->en-core-web-sm==3.6.0) (3.1.2)\n",
            "Requirement already satisfied: setuptools in /usr/local/lib/python3.10/dist-packages (from spacy<3.7.0,>=3.6.0->en-core-web-sm==3.6.0) (67.7.2)\n",
            "Requirement already satisfied: packaging>=20.0 in /usr/local/lib/python3.10/dist-packages (from spacy<3.7.0,>=3.6.0->en-core-web-sm==3.6.0) (23.1)\n",
            "Requirement already satisfied: langcodes<4.0.0,>=3.2.0 in /usr/local/lib/python3.10/dist-packages (from spacy<3.7.0,>=3.6.0->en-core-web-sm==3.6.0) (3.3.0)\n",
            "Requirement already satisfied: typing-extensions>=4.2.0 in /usr/local/lib/python3.10/dist-packages (from pydantic!=1.8,!=1.8.1,<1.11.0,>=1.7.4->spacy<3.7.0,>=3.6.0->en-core-web-sm==3.6.0) (4.6.3)\n",
            "Requirement already satisfied: urllib3<1.27,>=1.21.1 in /usr/local/lib/python3.10/dist-packages (from requests<3.0.0,>=2.13.0->spacy<3.7.0,>=3.6.0->en-core-web-sm==3.6.0) (1.26.16)\n",
            "Requirement already satisfied: certifi>=2017.4.17 in /usr/local/lib/python3.10/dist-packages (from requests<3.0.0,>=2.13.0->spacy<3.7.0,>=3.6.0->en-core-web-sm==3.6.0) (2023.5.7)\n",
            "Requirement already satisfied: charset-normalizer~=2.0.0 in /usr/local/lib/python3.10/dist-packages (from requests<3.0.0,>=2.13.0->spacy<3.7.0,>=3.6.0->en-core-web-sm==3.6.0) (2.0.12)\n",
            "Requirement already satisfied: idna<4,>=2.5 in /usr/local/lib/python3.10/dist-packages (from requests<3.0.0,>=2.13.0->spacy<3.7.0,>=3.6.0->en-core-web-sm==3.6.0) (3.4)\n",
            "Requirement already satisfied: blis<0.8.0,>=0.7.8 in /usr/local/lib/python3.10/dist-packages (from thinc<8.2.0,>=8.1.8->spacy<3.7.0,>=3.6.0->en-core-web-sm==3.6.0) (0.7.9)\n",
            "Requirement already satisfied: confection<1.0.0,>=0.0.1 in /usr/local/lib/python3.10/dist-packages (from thinc<8.2.0,>=8.1.8->spacy<3.7.0,>=3.6.0->en-core-web-sm==3.6.0) (0.0.4)\n",
            "Requirement already satisfied: click<9.0.0,>=7.1.1 in /usr/local/lib/python3.10/dist-packages (from typer<0.10.0,>=0.3.0->spacy<3.7.0,>=3.6.0->en-core-web-sm==3.6.0) (8.1.3)\n",
            "Requirement already satisfied: MarkupSafe>=2.0 in /usr/local/lib/python3.10/dist-packages (from jinja2->spacy<3.7.0,>=3.6.0->en-core-web-sm==3.6.0) (2.1.3)\n",
            "Installing collected packages: en-core-web-sm\n",
            "  Attempting uninstall: en-core-web-sm\n",
            "    Found existing installation: en-core-web-sm 3.5.0\n",
            "    Uninstalling en-core-web-sm-3.5.0:\n",
            "      Successfully uninstalled en-core-web-sm-3.5.0\n",
            "Successfully installed en-core-web-sm-3.6.0\n",
            "\u001b[38;5;2m✔ Download and installation successful\u001b[0m\n",
            "You can now load the package via spacy.load('en_core_web_sm')\n",
            "2023-07-07 12:37:28.866471: I tensorflow/core/platform/cpu_feature_guard.cc:182] This TensorFlow binary is optimized to use available CPU instructions in performance-critical operations.\n",
            "To enable the following instructions: AVX2 FMA, in other operations, rebuild TensorFlow with the appropriate compiler flags.\n",
            "2023-07-07 12:37:29.839147: W tensorflow/compiler/tf2tensorrt/utils/py_utils.cc:38] TF-TRT Warning: Could not find TensorRT\n",
            "2023-07-07 12:37:31.145567: I tensorflow/compiler/xla/stream_executor/cuda/cuda_gpu_executor.cc:996] successful NUMA node read from SysFS had negative value (-1), but there must be at least one NUMA node, so returning NUMA node zero. See more at https://github.com/torvalds/linux/blob/v6.0/Documentation/ABI/testing/sysfs-bus-pci#L344-L355\n",
            "2023-07-07 12:37:31.145986: I tensorflow/compiler/xla/stream_executor/cuda/cuda_gpu_executor.cc:996] successful NUMA node read from SysFS had negative value (-1), but there must be at least one NUMA node, so returning NUMA node zero. See more at https://github.com/torvalds/linux/blob/v6.0/Documentation/ABI/testing/sysfs-bus-pci#L344-L355\n",
            "2023-07-07 12:37:31.146150: I tensorflow/compiler/xla/stream_executor/cuda/cuda_gpu_executor.cc:996] successful NUMA node read from SysFS had negative value (-1), but there must be at least one NUMA node, so returning NUMA node zero. See more at https://github.com/torvalds/linux/blob/v6.0/Documentation/ABI/testing/sysfs-bus-pci#L344-L355\n",
            "Collecting de-core-news-sm==3.6.0\n",
            "  Downloading https://github.com/explosion/spacy-models/releases/download/de_core_news_sm-3.6.0/de_core_news_sm-3.6.0-py3-none-any.whl (14.6 MB)\n",
            "\u001b[2K     \u001b[90m━━━━━━━━━━━━━━━━━━━━━━━━━━━━━━━━━━━━━━━━\u001b[0m \u001b[32m14.6/14.6 MB\u001b[0m \u001b[31m49.3 MB/s\u001b[0m eta \u001b[36m0:00:00\u001b[0m\n",
            "\u001b[?25hRequirement already satisfied: spacy<3.7.0,>=3.6.0 in /usr/local/lib/python3.10/dist-packages (from de-core-news-sm==3.6.0) (3.6.0)\n",
            "Requirement already satisfied: spacy-legacy<3.1.0,>=3.0.11 in /usr/local/lib/python3.10/dist-packages (from spacy<3.7.0,>=3.6.0->de-core-news-sm==3.6.0) (3.0.12)\n",
            "Requirement already satisfied: spacy-loggers<2.0.0,>=1.0.0 in /usr/local/lib/python3.10/dist-packages (from spacy<3.7.0,>=3.6.0->de-core-news-sm==3.6.0) (1.0.4)\n",
            "Requirement already satisfied: murmurhash<1.1.0,>=0.28.0 in /usr/local/lib/python3.10/dist-packages (from spacy<3.7.0,>=3.6.0->de-core-news-sm==3.6.0) (1.0.9)\n",
            "Requirement already satisfied: cymem<2.1.0,>=2.0.2 in /usr/local/lib/python3.10/dist-packages (from spacy<3.7.0,>=3.6.0->de-core-news-sm==3.6.0) (2.0.7)\n",
            "Requirement already satisfied: preshed<3.1.0,>=3.0.2 in /usr/local/lib/python3.10/dist-packages (from spacy<3.7.0,>=3.6.0->de-core-news-sm==3.6.0) (3.0.8)\n",
            "Requirement already satisfied: thinc<8.2.0,>=8.1.8 in /usr/local/lib/python3.10/dist-packages (from spacy<3.7.0,>=3.6.0->de-core-news-sm==3.6.0) (8.1.10)\n",
            "Requirement already satisfied: wasabi<1.2.0,>=0.9.1 in /usr/local/lib/python3.10/dist-packages (from spacy<3.7.0,>=3.6.0->de-core-news-sm==3.6.0) (1.1.2)\n",
            "Requirement already satisfied: srsly<3.0.0,>=2.4.3 in /usr/local/lib/python3.10/dist-packages (from spacy<3.7.0,>=3.6.0->de-core-news-sm==3.6.0) (2.4.6)\n",
            "Requirement already satisfied: catalogue<2.1.0,>=2.0.6 in /usr/local/lib/python3.10/dist-packages (from spacy<3.7.0,>=3.6.0->de-core-news-sm==3.6.0) (2.0.8)\n",
            "Requirement already satisfied: typer<0.10.0,>=0.3.0 in /usr/local/lib/python3.10/dist-packages (from spacy<3.7.0,>=3.6.0->de-core-news-sm==3.6.0) (0.7.0)\n",
            "Requirement already satisfied: pathy>=0.10.0 in /usr/local/lib/python3.10/dist-packages (from spacy<3.7.0,>=3.6.0->de-core-news-sm==3.6.0) (0.10.2)\n",
            "Requirement already satisfied: smart-open<7.0.0,>=5.2.1 in /usr/local/lib/python3.10/dist-packages (from spacy<3.7.0,>=3.6.0->de-core-news-sm==3.6.0) (6.3.0)\n",
            "Requirement already satisfied: tqdm<5.0.0,>=4.38.0 in /usr/local/lib/python3.10/dist-packages (from spacy<3.7.0,>=3.6.0->de-core-news-sm==3.6.0) (4.65.0)\n",
            "Requirement already satisfied: numpy>=1.15.0 in /usr/local/lib/python3.10/dist-packages (from spacy<3.7.0,>=3.6.0->de-core-news-sm==3.6.0) (1.22.4)\n",
            "Requirement already satisfied: requests<3.0.0,>=2.13.0 in /usr/local/lib/python3.10/dist-packages (from spacy<3.7.0,>=3.6.0->de-core-news-sm==3.6.0) (2.27.1)\n",
            "Requirement already satisfied: pydantic!=1.8,!=1.8.1,<1.11.0,>=1.7.4 in /usr/local/lib/python3.10/dist-packages (from spacy<3.7.0,>=3.6.0->de-core-news-sm==3.6.0) (1.10.9)\n",
            "Requirement already satisfied: jinja2 in /usr/local/lib/python3.10/dist-packages (from spacy<3.7.0,>=3.6.0->de-core-news-sm==3.6.0) (3.1.2)\n",
            "Requirement already satisfied: setuptools in /usr/local/lib/python3.10/dist-packages (from spacy<3.7.0,>=3.6.0->de-core-news-sm==3.6.0) (67.7.2)\n",
            "Requirement already satisfied: packaging>=20.0 in /usr/local/lib/python3.10/dist-packages (from spacy<3.7.0,>=3.6.0->de-core-news-sm==3.6.0) (23.1)\n",
            "Requirement already satisfied: langcodes<4.0.0,>=3.2.0 in /usr/local/lib/python3.10/dist-packages (from spacy<3.7.0,>=3.6.0->de-core-news-sm==3.6.0) (3.3.0)\n",
            "Requirement already satisfied: typing-extensions>=4.2.0 in /usr/local/lib/python3.10/dist-packages (from pydantic!=1.8,!=1.8.1,<1.11.0,>=1.7.4->spacy<3.7.0,>=3.6.0->de-core-news-sm==3.6.0) (4.6.3)\n",
            "Requirement already satisfied: urllib3<1.27,>=1.21.1 in /usr/local/lib/python3.10/dist-packages (from requests<3.0.0,>=2.13.0->spacy<3.7.0,>=3.6.0->de-core-news-sm==3.6.0) (1.26.16)\n",
            "Requirement already satisfied: certifi>=2017.4.17 in /usr/local/lib/python3.10/dist-packages (from requests<3.0.0,>=2.13.0->spacy<3.7.0,>=3.6.0->de-core-news-sm==3.6.0) (2023.5.7)\n",
            "Requirement already satisfied: charset-normalizer~=2.0.0 in /usr/local/lib/python3.10/dist-packages (from requests<3.0.0,>=2.13.0->spacy<3.7.0,>=3.6.0->de-core-news-sm==3.6.0) (2.0.12)\n",
            "Requirement already satisfied: idna<4,>=2.5 in /usr/local/lib/python3.10/dist-packages (from requests<3.0.0,>=2.13.0->spacy<3.7.0,>=3.6.0->de-core-news-sm==3.6.0) (3.4)\n",
            "Requirement already satisfied: blis<0.8.0,>=0.7.8 in /usr/local/lib/python3.10/dist-packages (from thinc<8.2.0,>=8.1.8->spacy<3.7.0,>=3.6.0->de-core-news-sm==3.6.0) (0.7.9)\n",
            "Requirement already satisfied: confection<1.0.0,>=0.0.1 in /usr/local/lib/python3.10/dist-packages (from thinc<8.2.0,>=8.1.8->spacy<3.7.0,>=3.6.0->de-core-news-sm==3.6.0) (0.0.4)\n",
            "Requirement already satisfied: click<9.0.0,>=7.1.1 in /usr/local/lib/python3.10/dist-packages (from typer<0.10.0,>=0.3.0->spacy<3.7.0,>=3.6.0->de-core-news-sm==3.6.0) (8.1.3)\n",
            "Requirement already satisfied: MarkupSafe>=2.0 in /usr/local/lib/python3.10/dist-packages (from jinja2->spacy<3.7.0,>=3.6.0->de-core-news-sm==3.6.0) (2.1.3)\n",
            "Installing collected packages: de-core-news-sm\n",
            "Successfully installed de-core-news-sm-3.6.0\n",
            "\u001b[38;5;2m✔ Download and installation successful\u001b[0m\n",
            "You can now load the package via spacy.load('de_core_news_sm')\n"
          ]
        }
      ]
    },
    {
      "cell_type": "markdown",
      "metadata": {
        "id": "_nMRw6c3AlIb"
      },
      "source": [
        "## Helper Objects and Functions"
      ]
    },
    {
      "cell_type": "code",
      "metadata": {
        "id": "-uydJQ0w7CLT"
      },
      "source": [
        "de_model = spacy.load('de_core_news_sm')\n",
        "en_model = spacy.load('en_core_web_sm')\n"
      ],
      "execution_count": 4,
      "outputs": []
    },
    {
      "cell_type": "markdown",
      "metadata": {
        "id": "jiPV8Xc5Hw2s"
      },
      "source": [
        "Unlike the paper, reversing the input sequence resulted in a lower BLEU Score. Hence, the input sequences have not been reversed."
      ]
    },
    {
      "cell_type": "code",
      "metadata": {
        "id": "8EUA0Qsy8ZZa"
      },
      "source": [
        "def de_tokenizer(sentence):\n",
        "    return [token.text for token in de_model.tokenizer(sentence)]\n",
        "\n",
        "def en_tokenizer(sentence):\n",
        "    return [token.text for token in en_model.tokenizer(sentence)]"
      ],
      "execution_count": 6,
      "outputs": []
    },
    {
      "cell_type": "code",
      "metadata": {
        "id": "4wuOLBUQ9Lyc"
      },
      "source": [
        "SOURCE_Field = Field(eos_token = '<src_eos>', init_token = '<src_sos>', lower = True, tokenize = de_tokenizer)\n",
        "\n",
        "TARGET_Field = Field(eos_token = '<trg_eos>', init_token = '<trg_sos>', lower = True, tokenize = en_tokenizer)"
      ],
      "execution_count": 7,
      "outputs": []
    },
    {
      "cell_type": "markdown",
      "metadata": {
        "id": "oRQgEJWYVP1G"
      },
      "source": [
        "A helper function to return an input tensor corresponding to any string or list of tokens."
      ]
    },
    {
      "cell_type": "code",
      "metadata": {
        "id": "9v9YqtDI-Es7"
      },
      "source": [
        "def ipTensor(sentence, src_field):\n",
        "    if isinstance(sentence, list):\n",
        "        tokens = [src_field.init_token] + [token.lower() for token in sentence] + [src_field.eos_token]\n",
        "    else:\n",
        "        tokens = [src_field.init_token] + de_tokenizer(sentence) + [src_field.eos_token]\n",
        "    seq_len = len(tokens)\n",
        "    print(seq_len)\n",
        "    ip_tensor = torch.LongTensor([src_field.vocab.stoi[token] for token in tokens]).to(device)\n",
        "    return ip_tensor.view(seq_len, 1)"
      ],
      "execution_count": 39,
      "outputs": []
    },
    {
      "cell_type": "markdown",
      "metadata": {
        "id": "wJRgAZO2YzDr"
      },
      "source": [
        "## Fetching and Splitting Data"
      ]
    },
    {
      "cell_type": "code",
      "metadata": {
        "id": "bWnp0ebX-kDy",
        "colab": {
          "base_uri": "https://localhost:8080/"
        },
        "outputId": "8f95a734-fe58-477e-950f-59e36c26437d"
      },
      "source": [
        "train_data, valid_data, test_data = Multi30k.splits(exts = ('.de', '.en'), fields = (SOURCE_Field, TARGET_Field))"
      ],
      "execution_count": 9,
      "outputs": [
        {
          "output_type": "stream",
          "name": "stdout",
          "text": [
            "downloading training.tar.gz\n"
          ]
        },
        {
          "output_type": "stream",
          "name": "stderr",
          "text": [
            "training.tar.gz: 100%|██████████| 1.21M/1.21M [00:02<00:00, 576kB/s]\n"
          ]
        },
        {
          "output_type": "stream",
          "name": "stdout",
          "text": [
            "downloading validation.tar.gz\n"
          ]
        },
        {
          "output_type": "stream",
          "name": "stderr",
          "text": [
            "validation.tar.gz: 100%|██████████| 46.3k/46.3k [00:00<00:00, 177kB/s]\n"
          ]
        },
        {
          "output_type": "stream",
          "name": "stdout",
          "text": [
            "downloading mmt_task1_test2016.tar.gz\n"
          ]
        },
        {
          "output_type": "stream",
          "name": "stderr",
          "text": [
            "mmt_task1_test2016.tar.gz: 100%|██████████| 66.2k/66.2k [00:00<00:00, 168kB/s]\n"
          ]
        }
      ]
    },
    {
      "cell_type": "code",
      "metadata": {
        "id": "juAsQVEZ_dy4"
      },
      "source": [
        "SOURCE_Field.build_vocab(train_data, min_freq = 2)\n",
        "TARGET_Field.build_vocab(train_data, min_freq = 2)\n"
      ],
      "execution_count": 10,
      "outputs": []
    },
    {
      "cell_type": "code",
      "metadata": {
        "id": "EYZGCxPz3DwF",
        "colab": {
          "base_uri": "https://localhost:8080/"
        },
        "outputId": "d8516666-6810-491e-eeb8-8e73d4dc55a7"
      },
      "source": [
        "print(f\"Source vocab size: {len(SOURCE_Field.vocab)} | Target vocab size: {len(TARGET_Field.vocab)}\")"
      ],
      "execution_count": 11,
      "outputs": [
        {
          "output_type": "stream",
          "name": "stdout",
          "text": [
            "Source vocab size: 7853 | Target vocab size: 5893\n"
          ]
        }
      ]
    },
    {
      "cell_type": "markdown",
      "metadata": {
        "id": "LyUAFqT5DBtW"
      },
      "source": [
        "## Model Definition"
      ]
    },
    {
      "cell_type": "code",
      "metadata": {
        "id": "7uJP4r8GELn-"
      },
      "source": [
        "class Encoder(nn.Module):\n",
        "    def __init__(self, vocab_size, embedding_dim, hidden_dim, num_layers, enc_dropout):\n",
        "        super(Encoder, self).__init__()\n",
        "        self.embedding = nn.Embedding(vocab_size, embedding_dim)\n",
        "        # creates an embedding layer (nn.Embedding) named embedding. This layer is used to map the input word indices to their corresponding dense embeddings.\n",
        "        self.rnn = nn.LSTM(input_size=embedding_dim, hidden_size=hidden_dim, num_layers=num_layers, dropout=enc_dropout)\n",
        "        self.dropout = nn.Dropout(enc_dropout)\n",
        "\n",
        "    def forward(self, input):\n",
        "      #here input is the vector with indices of the words in vocabulary\n",
        "        embedding = self.dropout(self.embedding(input))                         # input = [seq_len, batch_size]  embedding = [seq_len, batch_size, embedding_dim]\n",
        "        output, states = self.rnn(embedding)                                    # output = [seq_len, batch_size, num_directions*hidden_dim]   **Here number of directions is 1\n",
        "                                                                                # states = (hidden, cell) = [num_layers*num_directions, batch_size, hidden_dim]\n",
        "        return states"
      ],
      "execution_count": 12,
      "outputs": []
    },
    {
      "cell_type": "code",
      "metadata": {
        "id": "rgJABenwHjkA"
      },
      "source": [
        "#This Decoder module is responsible for generating the translated sentence word by word,\n",
        " #taking the input word indices, the previous hidden and cell states, and producing the\n",
        " #predicted word probabilities at each time step.\n",
        "\n",
        "class Decoder(nn.Module):\n",
        "    def __init__(self, vocab_size, embedding_dim, hidden_dim, num_layers, dec_dropout):\n",
        "      #num_layers is no  of layers in lstm\n",
        "        super(Decoder, self).__init__()\n",
        "        self.hidden_dim = hidden_dim\n",
        "        self.output_dim = vocab_size\n",
        "        self.embedding = nn.Embedding(vocab_size, embedding_dim)\n",
        "        self.rnn = nn.LSTM(input_size=embedding_dim, hidden_size=hidden_dim, num_layers=num_layers, dropout=dec_dropout)\n",
        "        self.fc = nn.Linear(hidden_dim, vocab_size)\n",
        "        self.dropout = nn.Dropout(dec_dropout)\n",
        "\n",
        "    def forward(self, input, states):\n",
        "        embedding = self.dropout(self.embedding(input))                         # input = [1, batch_size]  embedding = [1, batch_size, embedding_dim]\n",
        "        output, states = self.rnn(embedding, states)                            # output = [seq_len, batch_size, num_directions*hidden_dim]   **Here number of directions is 1\n",
        "        output = self.fc(output).unsqueeze(0)                                   # output = [seq_len, batch_size, vocab_size]\n",
        "        # unsqueeze:adds an additional dimension at index 0 to match the expected shape of the output tensor.\n",
        "        return output, states"
      ],
      "execution_count": 13,
      "outputs": []
    },
    {
      "cell_type": "markdown",
      "source": [
        "The Seq2Seq model combines the encoder and decoder modules to perform the translation task. It uses the encoder to process the input source sentence and the decoder to generate the translated target sentence word by word, either using teacher forcing or the previous predicted word, depending on the specified ratio."
      ],
      "metadata": {
        "id": "ehTAGs1if79P"
      }
    },
    {
      "cell_type": "code",
      "metadata": {
        "id": "V-Psgwn3JhUu"
      },
      "source": [
        "class Seq2Seq(nn.Module):\n",
        "    def __init__(self, encoder, decoder):\n",
        "        super(Seq2Seq, self).__init__()\n",
        "        self.encoder = encoder\n",
        "        self.decoder = decoder\n",
        "\n",
        "    def forward(self, source, target, teacher_forcing_ratio):\n",
        "        enc_states = self.encoder(source)                                       # source = [seq_len, batch_size]\n",
        "                                                                                # target = [seq_len, batch_size]\n",
        "        dec_states = enc_states\n",
        "        seq_len = target.shape[0]\n",
        "        print(seq_len)\n",
        "        batch_size = target.shape[1]\n",
        "        predictions = torch.zeros(seq_len, batch_size, self.decoder.output_dim).to(device)\n",
        "        input = target[0,:].unsqueeze(0)                                        # input = [1, batch_size]\n",
        "        #sets the initial input for the decoder to be the first target word\n",
        "        # in the target sentence. The unsqueeze(0) operation adds an additional\n",
        "        #dimension at index 0 to match the expected shape.\n",
        "        for t in range(1, seq_len):\n",
        "            output, dec_states = self.decoder(input, dec_states)\n",
        "            #passes the input and decoder states to the decoder module,\n",
        "            #obtaining the output predictions and updated decoder states.\n",
        "            output = output.squeeze()\n",
        "            # removes the extra dimension from the output tensor.\n",
        "            predictions[t] = output.view(batch_size, self.decoder.output_dim)\n",
        "            if random.random() < teacher_forcing_ratio:\n",
        "                input = target[t].unsqueeze(0)\n",
        "            else:\n",
        "                input = output.argmax(1).unsqueeze(0)\n",
        "\n",
        "        return predictions[1:]"
      ],
      "execution_count": 14,
      "outputs": []
    },
    {
      "cell_type": "markdown",
      "metadata": {
        "id": "byBy3CJuFuch"
      },
      "source": [
        "## Training and Evaluation Functions"
      ]
    },
    {
      "cell_type": "markdown",
      "metadata": {
        "id": "rDW9kODkMyVv"
      },
      "source": [
        "```teacher_forcing_ratio``` is the probability of using the ground truth tokens as inputs while decoding. It is usually set to 1 while training and 0 while sampling. However, setting it to 0.5 resulted in a better BLEU Score than setting it to 1.\n"
      ]
    },
    {
      "cell_type": "markdown",
      "source": [
        "The Train function carries out the training process for the Seq2Seq model by iterating over the data batches, performing forward and backward passes, updating the model parameters, and computing the loss. The average epoch loss is returned as an indication of the model's performance during training."
      ],
      "metadata": {
        "id": "9F0csNTThKu5"
      }
    },
    {
      "cell_type": "code",
      "metadata": {
        "id": "2Cdb3KwuTqoE"
      },
      "source": [
        "def Train(iterator, model, criterion, optimizer, clip=1):\n",
        "    model.train()\n",
        "    epoch_loss = 0\n",
        "    for _, batch in enumerate(iterator):\n",
        "        model.zero_grad()# clears the gradients of the model parameters before starting the backward pass.\n",
        "        source = batch.src\n",
        "        target = batch.trg\n",
        "        #extract the source and target sentences from the batch.\n",
        "        outputs = model(source, target, teacher_forcing_ratio=0.5)\n",
        "        outputs = outputs.view(-1, outputs.shape[-1])\n",
        "        targets = target[1:].view(-1)\n",
        "        batch_loss = criterion(outputs, targets.to(device))\n",
        "        batch_loss.backward()\n",
        "        torch.nn.utils.clip_grad_norm_(model.parameters(), clip)\n",
        "        # clips the gradients to prevent them from exceeding the specified clip value,\n",
        "        #which helps mitigate the exploding gradient problem.\n",
        "        optimizer.step()\n",
        "        epoch_loss += batch_loss.item()\n",
        "\n",
        "    return epoch_loss/len(iterator)  #function returns the average epoch loss,"
      ],
      "execution_count": 15,
      "outputs": []
    },
    {
      "cell_type": "markdown",
      "source": [],
      "metadata": {
        "id": "cd6AiWothFbA"
      }
    },
    {
      "cell_type": "code",
      "metadata": {
        "id": "oUiWyJwXZG_l"
      },
      "source": [
        "def Evaluate(iterator, model, criterion):\n",
        "    model.eval()\n",
        "    eval_loss = 0\n",
        "    with torch.no_grad():\n",
        "        for _, batch in enumerate(iterator):\n",
        "            model.zero_grad()\n",
        "            source = batch.src\n",
        "            target = batch.trg\n",
        "            outputs = model(source, target, 0)\n",
        "            #teacher forcing ratio is set to 0, meaning the model relies solely on its own predictions without using the actual target words.\n",
        "            outputs = outputs.view(-1, outputs.shape[-1])\n",
        "            targets = target[1:].view(-1)\n",
        "            batch_loss = criterion(outputs, targets.to(device))\n",
        "            eval_loss += batch_loss.item()\n",
        "\n",
        "        return eval_loss/len(iterator)"
      ],
      "execution_count": 16,
      "outputs": []
    },
    {
      "cell_type": "code",
      "metadata": {
        "id": "tp-mY1LIaUF8"
      },
      "source": [
        "def Epoch_time(start_time, end_time):\n",
        "    elapsed_time = end_time - start_time\n",
        "    elapsed_mins = int(elapsed_time / 60)\n",
        "    elapsed_secs = int(elapsed_time - (elapsed_mins * 60))\n",
        "    return (elapsed_mins, elapsed_secs)"
      ],
      "execution_count": 17,
      "outputs": []
    },
    {
      "cell_type": "markdown",
      "metadata": {
        "id": "gNtfm-IMF3ld"
      },
      "source": [
        "## Data Iterators, Hyperparameters and Model Initialization"
      ]
    },
    {
      "cell_type": "code",
      "metadata": {
        "id": "WNausHKbBOcQ"
      },
      "source": [
        "BATCH_SIZE = 128\n",
        "\n",
        "train_iterator, valid_iterator, test_iterator = BucketIterator.splits((train_data, valid_data, test_data), batch_size = BATCH_SIZE, device = device)"
      ],
      "execution_count": 23,
      "outputs": []
    },
    {
      "cell_type": "code",
      "metadata": {
        "id": "J7lr5X8h-9Ov",
        "colab": {
          "base_uri": "https://localhost:8080/"
        },
        "outputId": "5f44adf1-2072-4143-d3e1-06822e73d68b"
      },
      "source": [
        "print(\"Number of Training sequences: \", len(train_data.examples))\n",
        "print(\"Number of Test sequences: \", len(test_data.examples))\n",
        "print(\"Number of Validation sequences: \", len(valid_data.examples))"
      ],
      "execution_count": 24,
      "outputs": [
        {
          "output_type": "stream",
          "name": "stdout",
          "text": [
            "Number of Training sequences:  29000\n",
            "Number of Test sequences:  1000\n",
            "Number of Validation sequences:  1014\n"
          ]
        }
      ]
    },
    {
      "cell_type": "code",
      "metadata": {
        "id": "wlxCfwPRbOOC"
      },
      "source": [
        "CLIP = 1\n",
        "NUM_EPOCHS = 20\n",
        "LR = 0.001\n",
        "HIDDEN_DIM = 512\n",
        "SRC_VOCAB_SIZE = len(SOURCE_Field.vocab)\n",
        "TRG_VOCAB_SIZE = len(TARGET_Field.vocab)\n",
        "EMBEDDING_DIM = 256\n",
        "NUM_LAYERS = 2\n",
        "ENC_DROPOUT = 0.5\n",
        "DEC_DROPOUT = 0.5"
      ],
      "execution_count": 25,
      "outputs": []
    },
    {
      "cell_type": "code",
      "metadata": {
        "id": "SUfjJIejGGn8"
      },
      "source": [
        "target_padding_index = TARGET_Field.vocab.stoi[TARGET_Field.pad_token]\n",
        "criterion = nn.CrossEntropyLoss(ignore_index = target_padding_index)"
      ],
      "execution_count": 26,
      "outputs": []
    },
    {
      "cell_type": "code",
      "metadata": {
        "id": "FMFPoyZL_qLu"
      },
      "source": [
        "encoder = Encoder(SRC_VOCAB_SIZE, EMBEDDING_DIM, HIDDEN_DIM, NUM_LAYERS, ENC_DROPOUT).to(device)\n",
        "decoder = Decoder(TRG_VOCAB_SIZE, EMBEDDING_DIM, HIDDEN_DIM, NUM_LAYERS, DEC_DROPOUT).to(device)\n",
        "seq2seq = Seq2Seq(encoder, decoder).to(device)\n",
        "optimizer = optim.AdamW(seq2seq.parameters(), LR)"
      ],
      "execution_count": 27,
      "outputs": []
    },
    {
      "cell_type": "code",
      "metadata": {
        "id": "5dGyhSBrrsxg"
      },
      "source": [
        "def initialize_weights(m):\n",
        "    for name, param in m.named_parameters():\n",
        "        nn.init.uniform_(param.data, -0.08, 0.08)"
      ],
      "execution_count": 28,
      "outputs": []
    },
    {
      "cell_type": "code",
      "metadata": {
        "id": "0STqjT4KValP",
        "colab": {
          "base_uri": "https://localhost:8080/"
        },
        "outputId": "5725bdd3-030e-45f0-c519-47e37aa7548a"
      },
      "source": [
        "seq2seq.apply(initialize_weights)"
      ],
      "execution_count": 29,
      "outputs": [
        {
          "output_type": "execute_result",
          "data": {
            "text/plain": [
              "Seq2Seq(\n",
              "  (encoder): Encoder(\n",
              "    (embedding): Embedding(7853, 256)\n",
              "    (rnn): LSTM(256, 512, num_layers=2, dropout=0.5)\n",
              "    (dropout): Dropout(p=0.5, inplace=False)\n",
              "  )\n",
              "  (decoder): Decoder(\n",
              "    (embedding): Embedding(5893, 256)\n",
              "    (rnn): LSTM(256, 512, num_layers=2, dropout=0.5)\n",
              "    (fc): Linear(in_features=512, out_features=5893, bias=True)\n",
              "    (dropout): Dropout(p=0.5, inplace=False)\n",
              "  )\n",
              ")"
            ]
          },
          "metadata": {},
          "execution_count": 29
        }
      ]
    },
    {
      "cell_type": "code",
      "metadata": {
        "id": "fg9AWIf3TCdz",
        "colab": {
          "base_uri": "https://localhost:8080/"
        },
        "outputId": "7e6a9a17-8622-4a7c-f849-a4c37927628e"
      },
      "source": [
        "def count_parameters(model):\n",
        "    return sum(p.numel() for p in model.parameters() if p.requires_grad)\n",
        "\n",
        "print(f'The model has {count_parameters(seq2seq):,} trainable parameters.')"
      ],
      "execution_count": 30,
      "outputs": [
        {
          "output_type": "stream",
          "name": "stdout",
          "text": [
            "The model has 13,898,501 trainable parameters.\n"
          ]
        }
      ]
    },
    {
      "cell_type": "markdown",
      "metadata": {
        "id": "UPGgn3yCIKY-"
      },
      "source": [
        "## Training\n"
      ]
    },
    {
      "cell_type": "markdown",
      "source": [
        "Perplexity measures the average uncertainty or unpredictability of an event. In the context of language modeling, perplexity is a way to estimate the average number of choices or possibilities that a language model assigns to each word in a given sequence.\n",
        "\n",
        "Mathematically, perplexity is defined as the exponentiated average negative log-likelihood per word:\n",
        "\n",
        "Perplexity = exp(∑(-log(p(w_i)))) / N\n",
        "\n",
        "where:\n",
        "\n",
        "∑(-log(p(w_i))) is the sum of the negative log-probabilities of each word in the sequence, representing the average uncertainty.\n",
        "N is the total number of words in the sequence.\n",
        "A lower perplexity indicates that the language model is more confident in its predictions, assigning higher probabilities to the correct words. A higher perplexity means that the language model is less certain, assigning lower probabilities to the correct words."
      ],
      "metadata": {
        "id": "4q300mcJkbfk"
      }
    },
    {
      "cell_type": "code",
      "metadata": {
        "id": "X8yEFx9Uc2hk",
        "colab": {
          "base_uri": "https://localhost:8080/"
        },
        "outputId": "aa7b8e43-005d-4574-e57b-7ee6257787dc"
      },
      "source": [
        "print(f\"Learning Rate: {LR}, Hidden Dimensions: {HIDDEN_DIM}\")\n",
        "train_losses = []\n",
        "valid_losses = []\n",
        "prev_epoch = 1\n",
        "min_losses = [float('inf'), float('inf')]\n",
        "start_time = time.time()\n",
        "for epoch in range(1, NUM_EPOCHS + 1):\n",
        "    train_loss = Train(train_iterator, seq2seq, criterion, optimizer, CLIP)\n",
        "    train_losses.append(train_loss)\n",
        "    valid_loss = Evaluate(test_iterator, seq2seq, criterion)\n",
        "    valid_losses.append(valid_loss)\n",
        "    if valid_loss < min_losses[0]:\n",
        "        min_losses[0] = valid_loss\n",
        "        min_losses[1] = train_loss\n",
        "\n",
        "    if epoch % int(NUM_EPOCHS / 10) == 0:\n",
        "        elapsed_time = Epoch_time(start_time, time.time())\n",
        "        print(f\"Time taken for epochs {prev_epoch} to {epoch}: {elapsed_time[0]}m {elapsed_time[1]}s\")\n",
        "        start_time = time.time()\n",
        "        prev_epoch = epoch + 1\n",
        "        print(f\"Training Loss: {train_loss:.4f} | Validation Loss: {valid_loss:.4f}\")\n",
        "        print(f\"Training PPL: {math.exp(train_loss):.4f} | Validation PPL: {math.exp(valid_loss):.4f}\")\n",
        "print(f\"Model with Train Loss {min_losses[1]:.4f}, Validation Loss: {min_losses[0]:.4f} was saved.\")"
      ],
      "execution_count": 31,
      "outputs": [
        {
          "output_type": "stream",
          "name": "stdout",
          "text": [
            "Learning Rate: 0.001, Hidden Dimensions: 512\n",
            "Time taken for epochs 1 to 2: 1m 20s\n",
            "Training Loss: 4.5169 | Validation Loss: 4.8918\n",
            "Training PPL: 91.5469 | Validation PPL: 133.1889\n",
            "Time taken for epochs 3 to 4: 1m 19s\n",
            "Training Loss: 3.9789 | Validation Loss: 4.4666\n",
            "Training PPL: 53.4602 | Validation PPL: 87.0625\n",
            "Time taken for epochs 5 to 6: 1m 22s\n",
            "Training Loss: 3.6014 | Validation Loss: 4.1094\n",
            "Training PPL: 36.6489 | Validation PPL: 60.9099\n",
            "Time taken for epochs 7 to 8: 1m 26s\n",
            "Training Loss: 3.2781 | Validation Loss: 3.7789\n",
            "Training PPL: 26.5253 | Validation PPL: 43.7696\n",
            "Time taken for epochs 9 to 10: 1m 22s\n",
            "Training Loss: 2.9875 | Validation Loss: 3.7766\n",
            "Training PPL: 19.8365 | Validation PPL: 43.6652\n",
            "Time taken for epochs 11 to 12: 1m 30s\n",
            "Training Loss: 2.7494 | Validation Loss: 3.6831\n",
            "Training PPL: 15.6329 | Validation PPL: 39.7678\n",
            "Time taken for epochs 13 to 14: 1m 22s\n",
            "Training Loss: 2.5582 | Validation Loss: 3.5637\n",
            "Training PPL: 12.9132 | Validation PPL: 35.2929\n",
            "Time taken for epochs 15 to 16: 1m 23s\n",
            "Training Loss: 2.3719 | Validation Loss: 3.5464\n",
            "Training PPL: 10.7174 | Validation PPL: 34.6871\n",
            "Time taken for epochs 17 to 18: 1m 23s\n",
            "Training Loss: 2.2235 | Validation Loss: 3.5651\n",
            "Training PPL: 9.2399 | Validation PPL: 35.3417\n",
            "Time taken for epochs 19 to 20: 1m 22s\n",
            "Training Loss: 2.0699 | Validation Loss: 3.5812\n",
            "Training PPL: 7.9241 | Validation PPL: 35.9166\n",
            "Model with Train Loss 2.1537, Validation Loss: 3.5096 was saved.\n"
          ]
        }
      ]
    },
    {
      "cell_type": "code",
      "metadata": {
        "id": "PvDUPeEVoNhr",
        "colab": {
          "base_uri": "https://localhost:8080/",
          "height": 472
        },
        "outputId": "ea9df0d3-07a9-4e21-a0c0-04d96a3bc7ec"
      },
      "source": [
        "plt.title(\"Seq2Seq: Learning Curves\")\n",
        "plt.xlabel(\"Number of Epochs\")\n",
        "plt.ylabel(\"Cross Entropy Loss\")\n",
        "plt.plot(train_losses, label = \"Training Loss\")\n",
        "plt.plot(valid_losses, label= \"Validation Loss\")\n",
        "plt.legend()\n",
        "plt.show()\n"
      ],
      "execution_count": 32,
      "outputs": [
        {
          "output_type": "display_data",
          "data": {
            "text/plain": [
              "<Figure size 640x480 with 1 Axes>"
            ],
            "image/png": "[encoded data removed]"
          },
          "metadata": {}
        }
      ]
    },
    {
      "cell_type": "markdown",
      "metadata": {
        "id": "cubxK83fL57Z"
      },
      "source": [
        "## Sampling"
      ]
    },
    {
      "cell_type": "markdown",
      "metadata": {
        "id": "wlf5VMa895Ku"
      },
      "source": [
        "Run the cell below to load the model for sampling.\n"
      ]
    },
    {
      "cell_type": "code",
      "metadata": {
        "id": "X57yudwEL8yN",
        "colab": {
          "base_uri": "https://localhost:8080/"
        },
        "outputId": "231117db-5d11-4cb0-bdb3-2924d9e4537e"
      },
      "source": [
        "seq2seq.eval()\n",
        "test_loss = Evaluate(test_iterator, seq2seq, criterion)\n",
        "print(f\"Test Loss: {test_loss:.4f} | Test PPL: {math.exp(test_loss):.4f}\")"
      ],
      "execution_count": 33,
      "outputs": [
        {
          "output_type": "stream",
          "name": "stdout",
          "text": [
            "Test Loss: 3.5812 | Test PPL: 35.9166\n"
          ]
        }
      ]
    },
    {
      "cell_type": "code",
      "metadata": {
        "id": "MA5u89HA-GZJ"
      },
      "source": [
        "def Translate(src_sentence, src_field, trg_field, model):\n",
        "    ip_tensor = ipTensor(src_sentence, src_field)\n",
        "    max_len = 4*ip_tensor.shape[0]\n",
        "    src_len = [ip_tensor.shape[0]]\n",
        "    with torch.no_grad():\n",
        "        enc_states = model.encoder(ip_tensor)\n",
        "    dec_states = enc_states\n",
        "    sos_id = trg_field.vocab.stoi[trg_field.init_token]\n",
        "    eos_id = trg_field.vocab.stoi[trg_field.eos_token]\n",
        "    predicts = [sos_id]\n",
        "    len = 1\n",
        "    while len < max_len:\n",
        "        input = torch.LongTensor([predicts[-1]]).view((1, 1)).to(device)\n",
        "        with torch.no_grad():\n",
        "            output, dec_states = model.decoder(input, dec_states)\n",
        "        output = output.squeeze()\n",
        "        output = output.view(-1, model.decoder.output_dim)\n",
        "        predicts.append(output.argmax(-1).item())\n",
        "        len += 1\n",
        "        if predicts[-1] == eos_id:\n",
        "            break\n",
        "    sentence = [trg_field.vocab.itos[id] for id in predicts[1:]]\n",
        "    return sentence"
      ],
      "execution_count": 34,
      "outputs": []
    },
    {
      "cell_type": "code",
      "metadata": {
        "id": "0VlxFDxOMwPV",
        "colab": {
          "base_uri": "https://localhost:8080/"
        },
        "outputId": "171d8697-7c8a-4fe0-faaf-48b130b605d0"
      },
      "source": [
        "ind = int(random.random() * len(test_data.examples))\n",
        "example = test_data.examples[ind]\n",
        "src_sentence = example.src\n",
        "trg_sentence = example.trg\n",
        "print(\"German Sentence: \", ' '.join(src_sentence))\n",
        "translation = Translate(src_sentence, SOURCE_Field, TARGET_Field, seq2seq)\n",
        "print(\"Predicted Translation: \", ' '.join(translation[:-1]))\n",
        "print(\"Actual Translation: \", ' '.join(trg_sentence))"
      ],
      "execution_count": 41,
      "outputs": [
        {
          "output_type": "stream",
          "name": "stdout",
          "text": [
            "German Sentence:  eine gruppe von läufern läuft auf zwei identische wolkenkratzer zu .\n",
            "13\n",
            "Predicted Translation:  a group of runners are running the race with two flags .\n",
            "Actual Translation:  a group of runners are running towards two identical skyscrapers .\n"
          ]
        }
      ]
    },
    {
      "cell_type": "markdown",
      "metadata": {
        "id": "MHyZasmoGkZX"
      },
      "source": [
        "## BLEU Score"
      ]
    },
    {
      "cell_type": "code",
      "metadata": {
        "id": "gDTYFJeoGoMn"
      },
      "source": [
        "def Calculate_BLEU(data, src_field, trg_field, model):\n",
        "    trgs = []\n",
        "    predicted_trgs = []\n",
        "    for i in range(len(data.examples)):\n",
        "        src_sentence = vars(data[i])['src']\n",
        "        trg_sentence = vars(data[i])['trg']\n",
        "        try:\n",
        "            # Sometimes(rarely) CUDA throws a \"Device side assert triggered\" error. So, just to avoid restarting runtime.\n",
        "            predicted_trg = Translate(src_sentence, src_field, trg_field, model)\n",
        "            predicted_trgs.append(predicted_trg[:-1])\n",
        "            trgs.append([trg_sentence])\n",
        "        except:\n",
        "            pass\n",
        "    return bleu_score(predicted_trgs, trgs)\n",
        "\n",
        "#input sequences and target sequences often have different lengths.\n",
        "#To process them efficiently in batches, padding is introduced to make\n",
        "#all sequences within a batch have the same length."
      ],
      "execution_count": 36,
      "outputs": []
    },
    {
      "cell_type": "code",
      "metadata": {
        "id": "UmRQOnzvGrld",
        "colab": {
          "base_uri": "https://localhost:8080/"
        },
        "outputId": "24e09b23-de65-4527-ff5f-08ae22774234"
      },
      "source": [
        "bleu_score_test = Calculate_BLEU(test_data, SOURCE_Field, TARGET_Field, seq2seq)\n",
        "print(f\"BLEU score on Testing Data: {bleu_score_test*100:.2f}\")"
      ],
      "execution_count": 37,
      "outputs": [
        {
          "output_type": "stream",
          "name": "stdout",
          "text": [
            "BLEU score on Testing Data: 20.47\n"
          ]
        }
      ]
    }
  ]
}