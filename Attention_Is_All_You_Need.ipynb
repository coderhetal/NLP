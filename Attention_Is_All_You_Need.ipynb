{
  "nbformat": 4,
  "nbformat_minor": 0,
  "metadata": {
    "accelerator": "GPU",
    "colab": {
      "provenance": [],
      "collapsed_sections": [
        "-ka2amniiTaG",
        "coPcHHJJgl0m",
        "dX51jT0ditAO",
        "6OnMxEcgiw0U",
        "aVqCE2jpG3tA",
        "jFFXrT4jjW2r",
        "FXvzXZsPjJ2G",
        "mUlGwTVCjEPc",
        "kD3SwAEwjkVq",
        "tScI3G6Rjd0Q",
        "ZaZnaB1OkkIr",
        "xicLWnRCl1ow",
        "6DSmaivml4tK"
      ],
      "gpuType": "T4",
      "include_colab_link": true
    },
    "kernelspec": {
      "display_name": "Python 3",
      "name": "python3"
    },
    "language_info": {
      "codemirror_mode": {
        "name": "ipython",
        "version": 3
      },
      "file_extension": ".py",
      "mimetype": "text/x-python",
      "name": "python",
      "nbconvert_exporter": "python",
      "pygments_lexer": "ipython3",
      "version": "3.7.6"
    }
  },
  "cells": [
    {
      "cell_type": "markdown",
      "metadata": {
        "id": "view-in-github",
        "colab_type": "text"
      },
      "source": [
        "<a href=\"https://colab.research.google.com/github/coderhetal/NLP/blob/main/Attention_Is_All_You_Need.ipynb\" target=\"_parent\"><img src=\"https://colab.research.google.com/assets/colab-badge.svg\" alt=\"Open In Colab\"/></a>"
      ]
    },
    {
      "cell_type": "markdown",
      "metadata": {
        "id": "-ka2amniiTaG"
      },
      "source": [
        "## Installing Packages"
      ]
    },
    {
      "cell_type": "markdown",
      "metadata": {
        "id": "MkVBck8liX-I"
      },
      "source": [
        "Run this cell only if torchtext reports an error while importing bleu_score."
      ]
    },
    {
      "cell_type": "code",
      "metadata": {
        "id": "dVnbnhKriT3o",
        "colab": {
          "base_uri": "https://localhost:8080/"
        },
        "outputId": "c323836e-bb07-4f4d-8f6a-2e46225caa80"
      },
      "source": [
        "!pip install torchtext==0.6.0"
      ],
      "execution_count": 1,
      "outputs": [
        {
          "output_type": "stream",
          "name": "stdout",
          "text": [
            "Looking in indexes: https://pypi.org/simple, https://us-python.pkg.dev/colab-wheels/public/simple/\n",
            "Collecting torchtext==0.6.0\n",
            "  Downloading torchtext-0.6.0-py3-none-any.whl (64 kB)\n",
            "\u001b[2K     \u001b[90m━━━━━━━━━━━━━━━━━━━━━━━━━━━━━━━━━━━━━━━━\u001b[0m \u001b[32m64.2/64.2 kB\u001b[0m \u001b[31m3.5 MB/s\u001b[0m eta \u001b[36m0:00:00\u001b[0m\n",
            "\u001b[?25hRequirement already satisfied: tqdm in /usr/local/lib/python3.10/dist-packages (from torchtext==0.6.0) (4.65.0)\n",
            "Requirement already satisfied: requests in /usr/local/lib/python3.10/dist-packages (from torchtext==0.6.0) (2.27.1)\n",
            "Requirement already satisfied: torch in /usr/local/lib/python3.10/dist-packages (from torchtext==0.6.0) (2.0.1+cu118)\n",
            "Requirement already satisfied: numpy in /usr/local/lib/python3.10/dist-packages (from torchtext==0.6.0) (1.22.4)\n",
            "Requirement already satisfied: six in /usr/local/lib/python3.10/dist-packages (from torchtext==0.6.0) (1.16.0)\n",
            "Collecting sentencepiece (from torchtext==0.6.0)\n",
            "  Downloading sentencepiece-0.1.99-cp310-cp310-manylinux_2_17_x86_64.manylinux2014_x86_64.whl (1.3 MB)\n",
            "\u001b[2K     \u001b[90m━━━━━━━━━━━━━━━━━━━━━━━━━━━━━━━━━━━━━━━━\u001b[0m \u001b[32m1.3/1.3 MB\u001b[0m \u001b[31m27.7 MB/s\u001b[0m eta \u001b[36m0:00:00\u001b[0m\n",
            "\u001b[?25hRequirement already satisfied: urllib3<1.27,>=1.21.1 in /usr/local/lib/python3.10/dist-packages (from requests->torchtext==0.6.0) (1.26.15)\n",
            "Requirement already satisfied: certifi>=2017.4.17 in /usr/local/lib/python3.10/dist-packages (from requests->torchtext==0.6.0) (2022.12.7)\n",
            "Requirement already satisfied: charset-normalizer~=2.0.0 in /usr/local/lib/python3.10/dist-packages (from requests->torchtext==0.6.0) (2.0.12)\n",
            "Requirement already satisfied: idna<4,>=2.5 in /usr/local/lib/python3.10/dist-packages (from requests->torchtext==0.6.0) (3.4)\n",
            "Requirement already satisfied: filelock in /usr/local/lib/python3.10/dist-packages (from torch->torchtext==0.6.0) (3.12.0)\n",
            "Requirement already satisfied: typing-extensions in /usr/local/lib/python3.10/dist-packages (from torch->torchtext==0.6.0) (4.5.0)\n",
            "Requirement already satisfied: sympy in /usr/local/lib/python3.10/dist-packages (from torch->torchtext==0.6.0) (1.11.1)\n",
            "Requirement already satisfied: networkx in /usr/local/lib/python3.10/dist-packages (from torch->torchtext==0.6.0) (3.1)\n",
            "Requirement already satisfied: jinja2 in /usr/local/lib/python3.10/dist-packages (from torch->torchtext==0.6.0) (3.1.2)\n",
            "Requirement already satisfied: triton==2.0.0 in /usr/local/lib/python3.10/dist-packages (from torch->torchtext==0.6.0) (2.0.0)\n",
            "Requirement already satisfied: cmake in /usr/local/lib/python3.10/dist-packages (from triton==2.0.0->torch->torchtext==0.6.0) (3.25.2)\n",
            "Requirement already satisfied: lit in /usr/local/lib/python3.10/dist-packages (from triton==2.0.0->torch->torchtext==0.6.0) (16.0.5)\n",
            "Requirement already satisfied: MarkupSafe>=2.0 in /usr/local/lib/python3.10/dist-packages (from jinja2->torch->torchtext==0.6.0) (2.1.2)\n",
            "Requirement already satisfied: mpmath>=0.19 in /usr/local/lib/python3.10/dist-packages (from sympy->torch->torchtext==0.6.0) (1.3.0)\n",
            "Installing collected packages: sentencepiece, torchtext\n",
            "  Attempting uninstall: torchtext\n",
            "    Found existing installation: torchtext 0.15.2\n",
            "    Uninstalling torchtext-0.15.2:\n",
            "      Successfully uninstalled torchtext-0.15.2\n",
            "Successfully installed sentencepiece-0.1.99 torchtext-0.6.0\n"
          ]
        }
      ]
    },
    {
      "cell_type": "markdown",
      "metadata": {
        "id": "coPcHHJJgl0m"
      },
      "source": [
        "## Importing Required Libraries\n",
        "\n",
        "\n"
      ]
    },
    {
      "cell_type": "code",
      "metadata": {
        "id": "otWCSsw55jCu"
      },
      "source": [
        "from google.colab import drive\n",
        "import math\n",
        "import matplotlib.pyplot as plt\n",
        "import matplotlib.ticker as ticker\n",
        "import nltk\n",
        "import numpy as np\n",
        "import random\n",
        "import spacy\n",
        "import time\n",
        "import torch\n",
        "import torch.nn as nn\n",
        "import torch.nn.functional as F\n",
        "import torch.optim as optim\n",
        "from torchtext.datasets import TranslationDataset, Multi30k\n",
        "from torchtext.data import Field, BucketIterator\n",
        "from torchtext.data.metrics import bleu_score"
      ],
      "execution_count": 2,
      "outputs": []
    },
    {
      "cell_type": "code",
      "metadata": {
        "id": "m2_H7nMB6Wk4",
        "colab": {
          "base_uri": "https://localhost:8080/"
        },
        "outputId": "f9dd14d3-504f-45b6-f9fe-a7f2b55f2391"
      },
      "source": [
        "device = torch.device(\"cuda\" if torch.cuda.is_available() else \"cpu\")\n",
        "print(\"Notebook is running on\", device)"
      ],
      "execution_count": 3,
      "outputs": [
        {
          "output_type": "stream",
          "name": "stdout",
          "text": [
            "Notebook is running on cuda\n"
          ]
        }
      ]
    },
    {
      "cell_type": "markdown",
      "metadata": {
        "id": "nmg7tdROVdeP"
      },
      "source": [
        "Fixing SEED for reproducibility of results"
      ]
    },
    {
      "cell_type": "code",
      "metadata": {
        "id": "LrrEkuHtO-4O"
      },
      "source": [
        "SEED = 4444\n",
        "\n",
        "random.seed(SEED)\n",
        "np.random.seed(SEED)\n",
        "torch.manual_seed(SEED)\n",
        "torch.cuda.manual_seed(SEED)\n",
        "torch.backends.cudnn.deterministic = True"
      ],
      "execution_count": 4,
      "outputs": []
    },
    {
      "cell_type": "markdown",
      "metadata": {
        "id": "dX51jT0ditAO"
      },
      "source": [
        "## Fetching Spacy Models"
      ]
    },
    {
      "cell_type": "code",
      "source": [
        "import locale\n",
        "locale.getpreferredencoding = lambda: \"UTF-8\""
      ],
      "metadata": {
        "id": "EhUtNAHDVuKX"
      },
      "execution_count": 6,
      "outputs": []
    },
    {
      "cell_type": "code",
      "metadata": {
        "id": "Cw73MD0j6fNS",
        "colab": {
          "base_uri": "https://localhost:8080/"
        },
        "outputId": "10b304f0-fca0-4595-b562-bc1ddf9c1cea"
      },
      "source": [
        "!python -m spacy download de\n",
        "!python -m spacy download en"
      ],
      "execution_count": 7,
      "outputs": [
        {
          "output_type": "stream",
          "name": "stdout",
          "text": [
            "2023-06-14 09:57:46.414087: W tensorflow/compiler/tf2tensorrt/utils/py_utils.cc:38] TF-TRT Warning: Could not find TensorRT\n",
            "\u001b[38;5;3m⚠ As of spaCy v3.0, shortcuts like 'de' are deprecated. Please use the\n",
            "full pipeline package name 'de_core_news_sm' instead.\u001b[0m\n",
            "Looking in indexes: https://pypi.org/simple, https://us-python.pkg.dev/colab-wheels/public/simple/\n",
            "Collecting de-core-news-sm==3.5.0\n",
            "  Downloading https://github.com/explosion/spacy-models/releases/download/de_core_news_sm-3.5.0/de_core_news_sm-3.5.0-py3-none-any.whl (14.6 MB)\n",
            "\u001b[2K     \u001b[90m━━━━━━━━━━━━━━━━━━━━━━━━━━━━━━━━━━━━━━━━\u001b[0m \u001b[32m14.6/14.6 MB\u001b[0m \u001b[31m76.0 MB/s\u001b[0m eta \u001b[36m0:00:00\u001b[0m\n",
            "\u001b[?25hRequirement already satisfied: spacy<3.6.0,>=3.5.0 in /usr/local/lib/python3.10/dist-packages (from de-core-news-sm==3.5.0) (3.5.2)\n",
            "Requirement already satisfied: spacy-legacy<3.1.0,>=3.0.11 in /usr/local/lib/python3.10/dist-packages (from spacy<3.6.0,>=3.5.0->de-core-news-sm==3.5.0) (3.0.12)\n",
            "Requirement already satisfied: spacy-loggers<2.0.0,>=1.0.0 in /usr/local/lib/python3.10/dist-packages (from spacy<3.6.0,>=3.5.0->de-core-news-sm==3.5.0) (1.0.4)\n",
            "Requirement already satisfied: murmurhash<1.1.0,>=0.28.0 in /usr/local/lib/python3.10/dist-packages (from spacy<3.6.0,>=3.5.0->de-core-news-sm==3.5.0) (1.0.9)\n",
            "Requirement already satisfied: cymem<2.1.0,>=2.0.2 in /usr/local/lib/python3.10/dist-packages (from spacy<3.6.0,>=3.5.0->de-core-news-sm==3.5.0) (2.0.7)\n",
            "Requirement already satisfied: preshed<3.1.0,>=3.0.2 in /usr/local/lib/python3.10/dist-packages (from spacy<3.6.0,>=3.5.0->de-core-news-sm==3.5.0) (3.0.8)\n",
            "Requirement already satisfied: thinc<8.2.0,>=8.1.8 in /usr/local/lib/python3.10/dist-packages (from spacy<3.6.0,>=3.5.0->de-core-news-sm==3.5.0) (8.1.9)\n",
            "Requirement already satisfied: wasabi<1.2.0,>=0.9.1 in /usr/local/lib/python3.10/dist-packages (from spacy<3.6.0,>=3.5.0->de-core-news-sm==3.5.0) (1.1.1)\n",
            "Requirement already satisfied: srsly<3.0.0,>=2.4.3 in /usr/local/lib/python3.10/dist-packages (from spacy<3.6.0,>=3.5.0->de-core-news-sm==3.5.0) (2.4.6)\n",
            "Requirement already satisfied: catalogue<2.1.0,>=2.0.6 in /usr/local/lib/python3.10/dist-packages (from spacy<3.6.0,>=3.5.0->de-core-news-sm==3.5.0) (2.0.8)\n",
            "Requirement already satisfied: typer<0.8.0,>=0.3.0 in /usr/local/lib/python3.10/dist-packages (from spacy<3.6.0,>=3.5.0->de-core-news-sm==3.5.0) (0.7.0)\n",
            "Requirement already satisfied: pathy>=0.10.0 in /usr/local/lib/python3.10/dist-packages (from spacy<3.6.0,>=3.5.0->de-core-news-sm==3.5.0) (0.10.1)\n",
            "Requirement already satisfied: smart-open<7.0.0,>=5.2.1 in /usr/local/lib/python3.10/dist-packages (from spacy<3.6.0,>=3.5.0->de-core-news-sm==3.5.0) (6.3.0)\n",
            "Requirement already satisfied: tqdm<5.0.0,>=4.38.0 in /usr/local/lib/python3.10/dist-packages (from spacy<3.6.0,>=3.5.0->de-core-news-sm==3.5.0) (4.65.0)\n",
            "Requirement already satisfied: numpy>=1.15.0 in /usr/local/lib/python3.10/dist-packages (from spacy<3.6.0,>=3.5.0->de-core-news-sm==3.5.0) (1.22.4)\n",
            "Requirement already satisfied: requests<3.0.0,>=2.13.0 in /usr/local/lib/python3.10/dist-packages (from spacy<3.6.0,>=3.5.0->de-core-news-sm==3.5.0) (2.27.1)\n",
            "Requirement already satisfied: pydantic!=1.8,!=1.8.1,<1.11.0,>=1.7.4 in /usr/local/lib/python3.10/dist-packages (from spacy<3.6.0,>=3.5.0->de-core-news-sm==3.5.0) (1.10.7)\n",
            "Requirement already satisfied: jinja2 in /usr/local/lib/python3.10/dist-packages (from spacy<3.6.0,>=3.5.0->de-core-news-sm==3.5.0) (3.1.2)\n",
            "Requirement already satisfied: setuptools in /usr/local/lib/python3.10/dist-packages (from spacy<3.6.0,>=3.5.0->de-core-news-sm==3.5.0) (67.7.2)\n",
            "Requirement already satisfied: packaging>=20.0 in /usr/local/lib/python3.10/dist-packages (from spacy<3.6.0,>=3.5.0->de-core-news-sm==3.5.0) (23.1)\n",
            "Requirement already satisfied: langcodes<4.0.0,>=3.2.0 in /usr/local/lib/python3.10/dist-packages (from spacy<3.6.0,>=3.5.0->de-core-news-sm==3.5.0) (3.3.0)\n",
            "Requirement already satisfied: typing-extensions>=4.2.0 in /usr/local/lib/python3.10/dist-packages (from pydantic!=1.8,!=1.8.1,<1.11.0,>=1.7.4->spacy<3.6.0,>=3.5.0->de-core-news-sm==3.5.0) (4.5.0)\n",
            "Requirement already satisfied: urllib3<1.27,>=1.21.1 in /usr/local/lib/python3.10/dist-packages (from requests<3.0.0,>=2.13.0->spacy<3.6.0,>=3.5.0->de-core-news-sm==3.5.0) (1.26.15)\n",
            "Requirement already satisfied: certifi>=2017.4.17 in /usr/local/lib/python3.10/dist-packages (from requests<3.0.0,>=2.13.0->spacy<3.6.0,>=3.5.0->de-core-news-sm==3.5.0) (2022.12.7)\n",
            "Requirement already satisfied: charset-normalizer~=2.0.0 in /usr/local/lib/python3.10/dist-packages (from requests<3.0.0,>=2.13.0->spacy<3.6.0,>=3.5.0->de-core-news-sm==3.5.0) (2.0.12)\n",
            "Requirement already satisfied: idna<4,>=2.5 in /usr/local/lib/python3.10/dist-packages (from requests<3.0.0,>=2.13.0->spacy<3.6.0,>=3.5.0->de-core-news-sm==3.5.0) (3.4)\n",
            "Requirement already satisfied: blis<0.8.0,>=0.7.8 in /usr/local/lib/python3.10/dist-packages (from thinc<8.2.0,>=8.1.8->spacy<3.6.0,>=3.5.0->de-core-news-sm==3.5.0) (0.7.9)\n",
            "Requirement already satisfied: confection<1.0.0,>=0.0.1 in /usr/local/lib/python3.10/dist-packages (from thinc<8.2.0,>=8.1.8->spacy<3.6.0,>=3.5.0->de-core-news-sm==3.5.0) (0.0.4)\n",
            "Requirement already satisfied: click<9.0.0,>=7.1.1 in /usr/local/lib/python3.10/dist-packages (from typer<0.8.0,>=0.3.0->spacy<3.6.0,>=3.5.0->de-core-news-sm==3.5.0) (8.1.3)\n",
            "Requirement already satisfied: MarkupSafe>=2.0 in /usr/local/lib/python3.10/dist-packages (from jinja2->spacy<3.6.0,>=3.5.0->de-core-news-sm==3.5.0) (2.1.2)\n",
            "Installing collected packages: de-core-news-sm\n",
            "Successfully installed de-core-news-sm-3.5.0\n",
            "\u001b[38;5;2m✔ Download and installation successful\u001b[0m\n",
            "You can now load the package via spacy.load('de_core_news_sm')\n",
            "2023-06-14 09:58:01.398174: W tensorflow/compiler/tf2tensorrt/utils/py_utils.cc:38] TF-TRT Warning: Could not find TensorRT\n",
            "\u001b[38;5;3m⚠ As of spaCy v3.0, shortcuts like 'en' are deprecated. Please use the\n",
            "full pipeline package name 'en_core_web_sm' instead.\u001b[0m\n",
            "Looking in indexes: https://pypi.org/simple, https://us-python.pkg.dev/colab-wheels/public/simple/\n",
            "Collecting en-core-web-sm==3.5.0\n",
            "  Downloading https://github.com/explosion/spacy-models/releases/download/en_core_web_sm-3.5.0/en_core_web_sm-3.5.0-py3-none-any.whl (12.8 MB)\n",
            "\u001b[2K     \u001b[90m━━━━━━━━━━━━━━━━━━━━━━━━━━━━━━━━━━━━━━━\u001b[0m \u001b[32m12.8/12.8 MB\u001b[0m \u001b[31m104.8 MB/s\u001b[0m eta \u001b[36m0:00:00\u001b[0m\n",
            "\u001b[?25hRequirement already satisfied: spacy<3.6.0,>=3.5.0 in /usr/local/lib/python3.10/dist-packages (from en-core-web-sm==3.5.0) (3.5.2)\n",
            "Requirement already satisfied: spacy-legacy<3.1.0,>=3.0.11 in /usr/local/lib/python3.10/dist-packages (from spacy<3.6.0,>=3.5.0->en-core-web-sm==3.5.0) (3.0.12)\n",
            "Requirement already satisfied: spacy-loggers<2.0.0,>=1.0.0 in /usr/local/lib/python3.10/dist-packages (from spacy<3.6.0,>=3.5.0->en-core-web-sm==3.5.0) (1.0.4)\n",
            "Requirement already satisfied: murmurhash<1.1.0,>=0.28.0 in /usr/local/lib/python3.10/dist-packages (from spacy<3.6.0,>=3.5.0->en-core-web-sm==3.5.0) (1.0.9)\n",
            "Requirement already satisfied: cymem<2.1.0,>=2.0.2 in /usr/local/lib/python3.10/dist-packages (from spacy<3.6.0,>=3.5.0->en-core-web-sm==3.5.0) (2.0.7)\n",
            "Requirement already satisfied: preshed<3.1.0,>=3.0.2 in /usr/local/lib/python3.10/dist-packages (from spacy<3.6.0,>=3.5.0->en-core-web-sm==3.5.0) (3.0.8)\n",
            "Requirement already satisfied: thinc<8.2.0,>=8.1.8 in /usr/local/lib/python3.10/dist-packages (from spacy<3.6.0,>=3.5.0->en-core-web-sm==3.5.0) (8.1.9)\n",
            "Requirement already satisfied: wasabi<1.2.0,>=0.9.1 in /usr/local/lib/python3.10/dist-packages (from spacy<3.6.0,>=3.5.0->en-core-web-sm==3.5.0) (1.1.1)\n",
            "Requirement already satisfied: srsly<3.0.0,>=2.4.3 in /usr/local/lib/python3.10/dist-packages (from spacy<3.6.0,>=3.5.0->en-core-web-sm==3.5.0) (2.4.6)\n",
            "Requirement already satisfied: catalogue<2.1.0,>=2.0.6 in /usr/local/lib/python3.10/dist-packages (from spacy<3.6.0,>=3.5.0->en-core-web-sm==3.5.0) (2.0.8)\n",
            "Requirement already satisfied: typer<0.8.0,>=0.3.0 in /usr/local/lib/python3.10/dist-packages (from spacy<3.6.0,>=3.5.0->en-core-web-sm==3.5.0) (0.7.0)\n",
            "Requirement already satisfied: pathy>=0.10.0 in /usr/local/lib/python3.10/dist-packages (from spacy<3.6.0,>=3.5.0->en-core-web-sm==3.5.0) (0.10.1)\n",
            "Requirement already satisfied: smart-open<7.0.0,>=5.2.1 in /usr/local/lib/python3.10/dist-packages (from spacy<3.6.0,>=3.5.0->en-core-web-sm==3.5.0) (6.3.0)\n",
            "Requirement already satisfied: tqdm<5.0.0,>=4.38.0 in /usr/local/lib/python3.10/dist-packages (from spacy<3.6.0,>=3.5.0->en-core-web-sm==3.5.0) (4.65.0)\n",
            "Requirement already satisfied: numpy>=1.15.0 in /usr/local/lib/python3.10/dist-packages (from spacy<3.6.0,>=3.5.0->en-core-web-sm==3.5.0) (1.22.4)\n",
            "Requirement already satisfied: requests<3.0.0,>=2.13.0 in /usr/local/lib/python3.10/dist-packages (from spacy<3.6.0,>=3.5.0->en-core-web-sm==3.5.0) (2.27.1)\n",
            "Requirement already satisfied: pydantic!=1.8,!=1.8.1,<1.11.0,>=1.7.4 in /usr/local/lib/python3.10/dist-packages (from spacy<3.6.0,>=3.5.0->en-core-web-sm==3.5.0) (1.10.7)\n",
            "Requirement already satisfied: jinja2 in /usr/local/lib/python3.10/dist-packages (from spacy<3.6.0,>=3.5.0->en-core-web-sm==3.5.0) (3.1.2)\n",
            "Requirement already satisfied: setuptools in /usr/local/lib/python3.10/dist-packages (from spacy<3.6.0,>=3.5.0->en-core-web-sm==3.5.0) (67.7.2)\n",
            "Requirement already satisfied: packaging>=20.0 in /usr/local/lib/python3.10/dist-packages (from spacy<3.6.0,>=3.5.0->en-core-web-sm==3.5.0) (23.1)\n",
            "Requirement already satisfied: langcodes<4.0.0,>=3.2.0 in /usr/local/lib/python3.10/dist-packages (from spacy<3.6.0,>=3.5.0->en-core-web-sm==3.5.0) (3.3.0)\n",
            "Requirement already satisfied: typing-extensions>=4.2.0 in /usr/local/lib/python3.10/dist-packages (from pydantic!=1.8,!=1.8.1,<1.11.0,>=1.7.4->spacy<3.6.0,>=3.5.0->en-core-web-sm==3.5.0) (4.5.0)\n",
            "Requirement already satisfied: urllib3<1.27,>=1.21.1 in /usr/local/lib/python3.10/dist-packages (from requests<3.0.0,>=2.13.0->spacy<3.6.0,>=3.5.0->en-core-web-sm==3.5.0) (1.26.15)\n",
            "Requirement already satisfied: certifi>=2017.4.17 in /usr/local/lib/python3.10/dist-packages (from requests<3.0.0,>=2.13.0->spacy<3.6.0,>=3.5.0->en-core-web-sm==3.5.0) (2022.12.7)\n",
            "Requirement already satisfied: charset-normalizer~=2.0.0 in /usr/local/lib/python3.10/dist-packages (from requests<3.0.0,>=2.13.0->spacy<3.6.0,>=3.5.0->en-core-web-sm==3.5.0) (2.0.12)\n",
            "Requirement already satisfied: idna<4,>=2.5 in /usr/local/lib/python3.10/dist-packages (from requests<3.0.0,>=2.13.0->spacy<3.6.0,>=3.5.0->en-core-web-sm==3.5.0) (3.4)\n",
            "Requirement already satisfied: blis<0.8.0,>=0.7.8 in /usr/local/lib/python3.10/dist-packages (from thinc<8.2.0,>=8.1.8->spacy<3.6.0,>=3.5.0->en-core-web-sm==3.5.0) (0.7.9)\n",
            "Requirement already satisfied: confection<1.0.0,>=0.0.1 in /usr/local/lib/python3.10/dist-packages (from thinc<8.2.0,>=8.1.8->spacy<3.6.0,>=3.5.0->en-core-web-sm==3.5.0) (0.0.4)\n",
            "Requirement already satisfied: click<9.0.0,>=7.1.1 in /usr/local/lib/python3.10/dist-packages (from typer<0.8.0,>=0.3.0->spacy<3.6.0,>=3.5.0->en-core-web-sm==3.5.0) (8.1.3)\n",
            "Requirement already satisfied: MarkupSafe>=2.0 in /usr/local/lib/python3.10/dist-packages (from jinja2->spacy<3.6.0,>=3.5.0->en-core-web-sm==3.5.0) (2.1.2)\n",
            "\u001b[38;5;2m✔ Download and installation successful\u001b[0m\n",
            "You can now load the package via spacy.load('en_core_web_sm')\n"
          ]
        }
      ]
    },
    {
      "cell_type": "markdown",
      "metadata": {
        "id": "6OnMxEcgiw0U"
      },
      "source": [
        "## Helper Objects and Functions"
      ]
    },
    {
      "cell_type": "code",
      "source": [],
      "metadata": {
        "id": "QqfVLjcuVtdX"
      },
      "execution_count": null,
      "outputs": []
    },
    {
      "cell_type": "code",
      "metadata": {
        "id": "-uydJQ0w7CLT"
      },
      "source": [
        "de_model = spacy.load('de_core_news_sm')\n",
        "en_model = spacy.load('en_core_web_sm')"
      ],
      "execution_count": 11,
      "outputs": []
    },
    {
      "cell_type": "code",
      "metadata": {
        "id": "8EUA0Qsy8ZZa"
      },
      "source": [
        "def de_tokenizer(sentence):\n",
        "    return [token.text for token in de_model.tokenizer(sentence)]\n",
        "\n",
        "def en_tokenizer(sentence):\n",
        "    return [token.text for token in en_model.tokenizer(sentence)]"
      ],
      "execution_count": 12,
      "outputs": []
    },
    {
      "cell_type": "code",
      "metadata": {
        "id": "4wuOLBUQ9Lyc"
      },
      "source": [
        "SOURCE_Field = Field(eos_token = '<src_eos>', init_token = '<src_sos>', lower = True, tokenize = de_tokenizer, batch_first = True)\n",
        "\n",
        "TARGET_Field = Field(eos_token = '<trg_eos>', init_token = '<trg_sos>', lower = True, tokenize = en_tokenizer, batch_first = True)"
      ],
      "execution_count": 13,
      "outputs": []
    },
    {
      "cell_type": "markdown",
      "metadata": {
        "id": "oRQgEJWYVP1G"
      },
      "source": [
        "A helper function to return input tensor corresponding to any string or list of tokens."
      ]
    },
    {
      "cell_type": "code",
      "metadata": {
        "id": "q_9vsba2kwEy"
      },
      "source": [
        "def ipTensor(sentence, src_field):\n",
        "    if isinstance(sentence, list):\n",
        "        tokens = [src_field.init_token] + [token.lower() for token in sentence] + [src_field.eos_token]\n",
        "    else:\n",
        "        tokens = [src_field.init_token] + [token.text.lower() for token in de_tokenizer(sentence)] + [src_field.eos_token]\n",
        "    seq_len = len(tokens)\n",
        "    ip_tensor = torch.LongTensor([src_field.vocab.stoi[token] for token in tokens]).to(device)\n",
        "    return ip_tensor.view(1, seq_len)"
      ],
      "execution_count": 14,
      "outputs": []
    },
    {
      "cell_type": "markdown",
      "metadata": {
        "id": "aVqCE2jpG3tA"
      },
      "source": [
        "## Fetching and Splitting Data"
      ]
    },
    {
      "cell_type": "code",
      "metadata": {
        "id": "bWnp0ebX-kDy",
        "colab": {
          "base_uri": "https://localhost:8080/"
        },
        "outputId": "7e2cdab8-48a5-40d9-a17b-055cf581d5d9"
      },
      "source": [
        "train_data, valid_data, test_data = Multi30k.splits(exts = ('.de', '.en'), fields = (SOURCE_Field, TARGET_Field))"
      ],
      "execution_count": 15,
      "outputs": [
        {
          "output_type": "stream",
          "name": "stdout",
          "text": [
            "downloading training.tar.gz\n"
          ]
        },
        {
          "output_type": "stream",
          "name": "stderr",
          "text": [
            "training.tar.gz: 100%|██████████| 1.21M/1.21M [00:01<00:00, 807kB/s] \n"
          ]
        },
        {
          "output_type": "stream",
          "name": "stdout",
          "text": [
            "downloading validation.tar.gz\n"
          ]
        },
        {
          "output_type": "stream",
          "name": "stderr",
          "text": [
            "validation.tar.gz: 100%|██████████| 46.3k/46.3k [00:00<00:00, 235kB/s]\n"
          ]
        },
        {
          "output_type": "stream",
          "name": "stdout",
          "text": [
            "downloading mmt_task1_test2016.tar.gz\n"
          ]
        },
        {
          "output_type": "stream",
          "name": "stderr",
          "text": [
            "mmt_task1_test2016.tar.gz: 100%|██████████| 66.2k/66.2k [00:00<00:00, 223kB/s]\n"
          ]
        }
      ]
    },
    {
      "cell_type": "code",
      "metadata": {
        "id": "juAsQVEZ_dy4"
      },
      "source": [
        "SOURCE_Field.build_vocab(train_data, min_freq = 2)\n",
        "TARGET_Field.build_vocab(train_data, min_freq = 2)"
      ],
      "execution_count": 16,
      "outputs": []
    },
    {
      "cell_type": "code",
      "metadata": {
        "id": "0rbq6DRPi7Ll",
        "colab": {
          "base_uri": "https://localhost:8080/"
        },
        "outputId": "bbb69de7-227b-45dc-f758-0b3046b8d360"
      },
      "source": [
        "print(f\"Source vocab size: {len(SOURCE_Field.vocab)} | Target vocab size: {len(TARGET_Field.vocab)}\")"
      ],
      "execution_count": 17,
      "outputs": [
        {
          "output_type": "stream",
          "name": "stdout",
          "text": [
            "Source vocab size: 7853 | Target vocab size: 5893\n"
          ]
        }
      ]
    },
    {
      "cell_type": "markdown",
      "metadata": {
        "id": "jFFXrT4jjW2r"
      },
      "source": [
        "## Model Definition"
      ]
    },
    {
      "cell_type": "code",
      "metadata": {
        "id": "Ux95gCazUBpk"
      },
      "source": [
        "class MultiHead_Attn_Layer(nn.Module):\n",
        "    def __init__(self, hidden_dim, n_heads, dropout):\n",
        "        super(MultiHead_Attn_Layer, self).__init__()\n",
        "        self.hidden_dim = hidden_dim\n",
        "        self.n_heads = n_heads\n",
        "        self.head_dim = hidden_dim // n_heads\n",
        "        self.fc_Q = nn.Linear(hidden_dim, hidden_dim)\n",
        "        self.fc_K = nn.Linear(hidden_dim, hidden_dim)\n",
        "        self.fc_V = nn.Linear(hidden_dim, hidden_dim)\n",
        "        self.fc_O = nn.Linear(hidden_dim, hidden_dim)\n",
        "        self.scale = math.sqrt(self.head_dim)\n",
        "        self.dropout = nn.Dropout(dropout)\n",
        "\n",
        "    def forward(self, query, key, value, mask=None):                                    # [query] = [batch_size, query_len, hidden_dim] [key] = [batch_size, key_len, hidden_dim] [value] = [batch_Size, value_len, hidden_dim]\n",
        "        batch_size = query.shape[0]\n",
        "        Q = self.fc_Q(query)                                                            # [Q] = [batch_size, query_len, hidden_dim]\n",
        "        K = self.fc_K(key)                                                              # [K] = [batch_size, key_len, hidden_dim]\n",
        "        V = self.fc_V(value)                                                            # [V] = [batch_size, value_len, hidden_dim]\n",
        "        Q = Q.view(batch_size, -1, self.n_heads, self.head_dim).permute(0, 2, 1, 3)     # [Q] = [batch_size, num_heads, query_len, head_dim]\n",
        "        K = K.view(batch_size, -1, self.n_heads, self.head_dim).permute(0, 2, 1, 3)     # [K] = [batch_size, num_heads, key_len, head_dim]\n",
        "        V = V.view(batch_size, -1, self.n_heads, self.head_dim).permute(0, 2, 1, 3)     # [V] = [batch_size, num_heads, value_len, head_dim]\n",
        "        energy = torch.matmul(Q, K.permute(0, 1, 3, 2)) / self.scale\n",
        "        if mask is not None:                                                            # [energy] = [batch_size, num_heads, query_len, key_len]\n",
        "            energy = energy.masked_fill(mask == False, -1e10)\n",
        "        attention = torch.softmax(energy, dim = -1)                                     # [attention] = [batch_size, num_heads, query_len, key_len]\n",
        "        x = torch.matmul(self.dropout(attention), V)                                    # [x] = [batch_size, num_heads, query_len, head_dim]\n",
        "        x = x.permute(0, 2, 1, 3).contiguous()                                          # [x] = [batch_size, query_len, num_heads, head_dim]\n",
        "        # Can avoid contiguous() if we use .reshape instead of .view in the next line\n",
        "        out = self.fc_O(x.view(batch_size, -1, self.hidden_dim))                        # [out] = [batch_size, query_len, hidden_dim]\n",
        "        return out, attention"
      ],
      "execution_count": 18,
      "outputs": []
    },
    {
      "cell_type": "code",
      "metadata": {
        "id": "wLAYR1E3Tx36"
      },
      "source": [
        "class Postn_Feed_Fwrd(nn.Module):\n",
        "    def __init__(self, hidden_dim, pff_dim, dropout):\n",
        "        super(Postn_Feed_Fwrd, self).__init__()\n",
        "        self.fc1 = nn.Linear(hidden_dim, pff_dim)\n",
        "        self.fc2 = nn.Linear(pff_dim, hidden_dim)\n",
        "        self.dropout = nn.Dropout(dropout)\n",
        "\n",
        "    def forward(self, input):                                                   # input = [batch_size, seq_len, hidden_dim]\n",
        "        out = torch.relu(self.fc1(input))                                       # out = [batch_size, seq_len, pff_dim]\n",
        "        out = self.fc2(self.dropout(out))                                       # out = [batch_size, seq_len, hidden_dim]\n",
        "        return out"
      ],
      "execution_count": 19,
      "outputs": []
    },
    {
      "cell_type": "code",
      "metadata": {
        "id": "YDOAuwIVcZaS"
      },
      "source": [
        "class Encoder_Layer(nn.Module):\n",
        "    def __init__(self, hidden_dim, n_heads, pff_dim, dropout):\n",
        "        super(Encoder_Layer, self).__init__()\n",
        "        self.self_attn = MultiHead_Attn_Layer(hidden_dim, n_heads, dropout)\n",
        "        self.pff = Postn_Feed_Fwrd(hidden_dim, pff_dim, dropout)\n",
        "        self.attn_norm = nn.LayerNorm(hidden_dim)\n",
        "        self.pff_norm = nn.LayerNorm(hidden_dim)\n",
        "        self.dropout = nn.Dropout(dropout)\n",
        "\n",
        "    def forward(self, src, src_mask):                                           # src = [batch_size, src_len, hidden_dim]  src_mask = [batch_size, src_len]\n",
        "        attn_out, _ = self.self_attn(src, src, src, src_mask)                   # attn_out = [batch_size, src_len, hidden_dim]\n",
        "        inter_out = self.attn_norm(self.dropout(attn_out) + src)                # inter_out = [batch_size, src_len, hidden_dim]\n",
        "        pff_out = self.pff(inter_out)                                           # pff_out = [batch_size, src_len, hidden_dim]\n",
        "        out = self.pff_norm(self.dropout(pff_out) + inter_out)                  # out = [batch_size, src_len, hidden_dim]\n",
        "        return out"
      ],
      "execution_count": 20,
      "outputs": []
    },
    {
      "cell_type": "code",
      "metadata": {
        "id": "7uJP4r8GELn-"
      },
      "source": [
        "class Encoder(nn.Module):\n",
        "    def __init__(self, tok_vocab_size, pos_vocab_size, hidden_dim, enc_heads, enc_pff_dim, num_layers, enc_dropout):\n",
        "        super(Encoder, self).__init__()\n",
        "        self.tok_embedding = nn.Embedding(tok_vocab_size, hidden_dim)\n",
        "        self.pos_embedding = nn.Embedding(pos_vocab_size, hidden_dim)\n",
        "        self.enc_layers = nn.ModuleList([Encoder_Layer(hidden_dim, enc_heads, enc_pff_dim, enc_dropout) for i in range(num_layers)])\n",
        "        self.scale = math.sqrt(hidden_dim)\n",
        "        self.dropout = nn.Dropout(enc_dropout)\n",
        "\n",
        "    def forward(self, src, src_mask):                                                       # src = [batch_size, src_len] src_mask = [batch_size, src_mask]\n",
        "        batch_size = src.shape[0]\n",
        "        src_len = src.shape[1]\n",
        "        tok_embed = self.tok_embedding(src)                                                 # tok_embed = [batch_size, src_len, hidden_dim]\n",
        "        pos_tensor = torch.arange(0, src_len).unsqueeze(0).repeat(batch_size, 1).to(device) # pos_tensor = [batch_size, src_len]\n",
        "        pos_embed = self.pos_embedding(pos_tensor)                                          # pos_embed = [batch_size, src_len, hidden_dim]\n",
        "        enc_embed = self.dropout(tok_embed * self.scale + pos_embed)                        # enc_embed = [batch_size, src_len, hidden_dim]\n",
        "        enc_state = enc_embed\n",
        "        for enc_layer in self.enc_layers:\n",
        "            enc_state = enc_layer(enc_state, src_mask)                                      # enc_state = [batch_size, src_len, hidden_dim]\n",
        "        return enc_state"
      ],
      "execution_count": 21,
      "outputs": []
    },
    {
      "cell_type": "code",
      "metadata": {
        "id": "R2kHJYeIoGuI"
      },
      "source": [
        "class Decoder_Layer(nn.Module):\n",
        "    def __init__(self, hidden_dim, n_heads, pff_dim, dropout):\n",
        "        super(Decoder_Layer, self).__init__()\n",
        "        self.self_attn = MultiHead_Attn_Layer(hidden_dim, n_heads, dropout)\n",
        "        self.cross_attn = MultiHead_Attn_Layer(hidden_dim, n_heads, dropout)\n",
        "        self.pff = Postn_Feed_Fwrd(hidden_dim, pff_dim, dropout)\n",
        "        self.attn_norm1 = nn.LayerNorm(hidden_dim)\n",
        "        self.attn_norm2 = nn.LayerNorm(hidden_dim)\n",
        "        self.pff_norm = nn.LayerNorm(hidden_dim)\n",
        "        self.dropout = nn.Dropout(dropout)\n",
        "\n",
        "    def forward(self, trg, trg_mask, enc_out, src_mask):                            # trg = [batch_size, trg_len, hidden_dim] trg_mask = [batch_size, trg_len] enc_out = [batch_size, src_len, hidden_dim] src_mask = [batch_size, src_len]\n",
        "        sattn_out, _ = self.self_attn(trg, trg, trg, trg_mask)                      # satten_out = [batch_size, trg_len, hidden_dim]\n",
        "        inter_out1 = self.attn_norm1(self.dropout(sattn_out) + trg)                 # inter_out1 = [batch_size, trg_len, hidden_dim]\n",
        "        cattn_out, attn = self.cross_attn(inter_out1, enc_out, enc_out, src_mask)   # cattn_out = [batch_size, trg_len, hidden_dim] attn = [batch_size, num_heads, query_len, key_len]\n",
        "        inter_out2 = self.attn_norm2(self.dropout(cattn_out) + inter_out1)          # inter_out2 = [batch_size, trg_len, hidden_dim]\n",
        "        pff_out = self.pff(inter_out2)                                              # pff_out = [batch_size, trg_len, hidden_dim]\n",
        "        out = self.pff_norm(self.dropout(pff_out) + inter_out2)                     # out = [batch_size, trg_len, hidden_dim]\n",
        "        return out, attn"
      ],
      "execution_count": 22,
      "outputs": []
    },
    {
      "cell_type": "code",
      "metadata": {
        "id": "rgJABenwHjkA"
      },
      "source": [
        "class Decoder(nn.Module):\n",
        "    def __init__(self, tok_vocab_size, pos_vocab_size, hidden_dim, dec_heads, dec_pff_dim, num_layers, dec_dropout):\n",
        "        super(Decoder, self).__init__()\n",
        "        self.tok_embedding = nn.Embedding(tok_vocab_size, hidden_dim)\n",
        "        self.pos_embedding = nn.Embedding(pos_vocab_size, hidden_dim)\n",
        "        self.dec_layers = nn.ModuleList([Decoder_Layer(hidden_dim, dec_heads, dec_pff_dim, dec_dropout) for i in range(num_layers)])\n",
        "        self.fc = nn.Linear(hidden_dim, tok_vocab_size)\n",
        "        self.scale = math.sqrt(hidden_dim)\n",
        "        self.dropout = nn.Dropout(dec_dropout)\n",
        "\n",
        "    def forward(self, trg, trg_mask, enc_out, src_mask):                                    # trg = [batch_size, trg_len] trg_mask = [batch_size, trg_len] enc_out = [] src_mask = []\n",
        "        batch_size = trg.shape[0]\n",
        "        trg_len = trg.shape[1]\n",
        "        tok_embed = self.tok_embedding(trg)                                                 # tok_embed = [batch_size, trg_len, hidden_dim]\n",
        "        pos_tensor = torch.arange(0, trg_len).unsqueeze(0).repeat(batch_size, 1).to(device) # pos_tensor = [batch_size, trg_len]\n",
        "        pos_embed = self.pos_embedding(pos_tensor)                                          # pos_embed = [batch_size, trg_len, hidden_dim]\n",
        "        dec_embed = self.dropout(tok_embed * self.scale + pos_embed)                        # dec_embed = [batch_size, trg_len, hidden_dim]\n",
        "        dec_state = dec_embed\n",
        "        for dec_layer in self.dec_layers:\n",
        "            dec_state, attention = dec_layer(dec_state, trg_mask, enc_out, src_mask)        # dec_state = [batch_size, trg_len, hidden_dim] attention = [batch_size, num_heads, query_len, key_len]\n",
        "        out = self.fc(dec_state)                                                            # out = [batch_size, tok_vocab_size]\n",
        "        return out, attention"
      ],
      "execution_count": 23,
      "outputs": []
    },
    {
      "cell_type": "code",
      "metadata": {
        "id": "V-Psgwn3JhUu"
      },
      "source": [
        "class Seq2Seq(nn.Module):\n",
        "    def __init__(self, encoder, decoder, src_padding_idx, trg_padding_idx):\n",
        "        super(Seq2Seq, self).__init__()\n",
        "        self.encoder = encoder\n",
        "        self.decoder = decoder\n",
        "        self.src_padding_idx = src_padding_idx\n",
        "        self.trg_padding_idx = trg_padding_idx\n",
        "\n",
        "    def make_src_mask(self, src):                                                       # src = [batch_size, src_len]\n",
        "        src_mask = (src != self.src_padding_idx).unsqueeze(1).unsqueeze(2).to(device)   # src_mask = [batch_size, 1, 1, src_len]\n",
        "        return src_mask\n",
        "\n",
        "    def make_trg_mask(self, trg):                                                       # trg = [batch_size, trg_len]\n",
        "        trg_len = trg.shape[1]\n",
        "        pad_mask = (trg != self.trg_padding_idx).unsqueeze(1).unsqueeze(2).to(device)   # pad_mask = [batch_size, 1, 1, trg_len]\n",
        "        sub_mask = torch.tril(torch.ones((trg_len, trg_len), device = device)).bool()   # sub_mask = [trg_len, trg_len]\n",
        "        trg_mask = pad_mask & sub_mask                                                  # trg_mask = [batch_size, 1, trg_len, trg_len]\n",
        "        return trg_mask\n",
        "\n",
        "    def forward(self, src, trg):                                                        # src = [batch_size, src_len] trg = [batch_size, trg_len]\n",
        "        src_mask = self.make_src_mask(src)\n",
        "        trg_mask = self.make_trg_mask(trg)\n",
        "        enc_out = self.encoder(src, src_mask)\n",
        "        output, attention = self.decoder(trg, trg_mask, enc_out, src_mask)\n",
        "        return output, attention"
      ],
      "execution_count": 24,
      "outputs": []
    },
    {
      "cell_type": "markdown",
      "metadata": {
        "id": "FXvzXZsPjJ2G"
      },
      "source": [
        "## Training and Evaluation Functions"
      ]
    },
    {
      "cell_type": "code",
      "metadata": {
        "id": "2Cdb3KwuTqoE"
      },
      "source": [
        "def Train(iterator, model, criterion, optimizer, clip):\n",
        "    model.train()\n",
        "    epoch_loss = 0\n",
        "    for _, batch in enumerate(iterator):\n",
        "        optimizer.zero_grad()\n",
        "        source = batch.src\n",
        "        target = batch.trg\n",
        "        outputs, _ = model(source, target[:, :-1])\n",
        "        outputs = outputs.contiguous().view(-1, outputs.shape[-1])\n",
        "        targets = target[:, 1:].contiguous().view(-1).to(device)\n",
        "        # To avoid using .contiguous() simply use .reshape instead of .conti..().view()\n",
        "        batch_loss = criterion(outputs, targets)\n",
        "        batch_loss.backward()\n",
        "        torch.nn.utils.clip_grad_norm_(model.parameters(), clip)\n",
        "        optimizer.step()\n",
        "        epoch_loss += batch_loss.item()\n",
        "\n",
        "    return epoch_loss/len(iterator)"
      ],
      "execution_count": 25,
      "outputs": []
    },
    {
      "cell_type": "code",
      "metadata": {
        "id": "oUiWyJwXZG_l"
      },
      "source": [
        "def Evaluate(iterator, model, criterion):\n",
        "    model.eval()\n",
        "    eval_loss = 0\n",
        "    with torch.no_grad():\n",
        "        for _, batch in enumerate(iterator):\n",
        "            source = batch.src\n",
        "            target = batch.trg\n",
        "            outputs, attention = model(source, target[:, :-1])\n",
        "            outputs = outputs.contiguous().view(-1, outputs.shape[-1])\n",
        "            targets = target[:, 1:].contiguous().view(-1).to(device)\n",
        "            # To avoid using .contiguous() simply use .reshape instead of .conti..().view()\n",
        "            batch_loss = criterion(outputs, targets)\n",
        "            eval_loss += batch_loss.item()\n",
        "\n",
        "        return eval_loss/len(iterator)"
      ],
      "execution_count": 26,
      "outputs": []
    },
    {
      "cell_type": "code",
      "metadata": {
        "id": "tp-mY1LIaUF8"
      },
      "source": [
        "def Epoch_time(start_time, end_time):\n",
        "    elapsed_time = end_time - start_time\n",
        "    elapsed_mins = int(elapsed_time / 60)\n",
        "    elapsed_secs = int(elapsed_time - (elapsed_mins * 60))\n",
        "    return (elapsed_mins, elapsed_secs)"
      ],
      "execution_count": 27,
      "outputs": []
    },
    {
      "cell_type": "markdown",
      "metadata": {
        "id": "mUlGwTVCjEPc"
      },
      "source": [
        "## Data Iterators, Hyperparameters and Model Initialization"
      ]
    },
    {
      "cell_type": "code",
      "metadata": {
        "id": "WNausHKbBOcQ"
      },
      "source": [
        "BATCH_SIZE = 128\n",
        "\n",
        "train_iterator, valid_iterator, test_iterator = BucketIterator.splits((train_data, valid_data, test_data), batch_size = BATCH_SIZE, device = device)"
      ],
      "execution_count": 28,
      "outputs": []
    },
    {
      "cell_type": "code",
      "metadata": {
        "id": "J7lr5X8h-9Ov",
        "colab": {
          "base_uri": "https://localhost:8080/"
        },
        "outputId": "939bacb1-4557-405f-d151-02d30af36a33"
      },
      "source": [
        "print(\"Number of Training sequences: \", len(train_data.examples))\n",
        "print(\"Number of Test sequences: \", len(test_data.examples))\n",
        "print(\"Number of Validation sequences: \", len(valid_data.examples))"
      ],
      "execution_count": 29,
      "outputs": [
        {
          "output_type": "stream",
          "name": "stdout",
          "text": [
            "Number of Training sequences:  29000\n",
            "Number of Test sequences:  1000\n",
            "Number of Validation sequences:  1014\n"
          ]
        }
      ]
    },
    {
      "cell_type": "code",
      "metadata": {
        "id": "wlxCfwPRbOOC"
      },
      "source": [
        "NUM_EPOCHS = 10\n",
        "LR = 0.0005\n",
        "CLIP = 1\n",
        "SRC_VOCAB_SIZE = len(SOURCE_Field.vocab)\n",
        "TRG_VOCAB_SIZE = len(TARGET_Field.vocab)\n",
        "HIDDEN_DIM = 256\n",
        "ENC_PFF_DIM = 512\n",
        "DEC_PFF_DIM = 512\n",
        "ENC_HEADS = 8\n",
        "DEC_HEADS = 8\n",
        "ENC_DROPOUT = 0.1\n",
        "DEC_DROPOUT = 0.1\n",
        "ENC_NUM_LAYERS = 3\n",
        "DEC_NUM_LAYERS = 3\n",
        "MAX_LEN = 100"
      ],
      "execution_count": 30,
      "outputs": []
    },
    {
      "cell_type": "code",
      "metadata": {
        "id": "g43NA-HR7KHc"
      },
      "source": [
        "src_padding_idx = SOURCE_Field.vocab.stoi[SOURCE_Field.pad_token]\n",
        "trg_padding_idx = TARGET_Field.vocab.stoi[TARGET_Field.pad_token]\n",
        "criterion = nn.CrossEntropyLoss(ignore_index = trg_padding_idx)"
      ],
      "execution_count": 31,
      "outputs": []
    },
    {
      "cell_type": "code",
      "metadata": {
        "id": "lpHFW1-Uj4Bh"
      },
      "source": [
        "encoder = Encoder(SRC_VOCAB_SIZE, MAX_LEN, HIDDEN_DIM, ENC_HEADS, ENC_PFF_DIM, ENC_NUM_LAYERS, ENC_DROPOUT).to(device)\n",
        "decoder = Decoder(TRG_VOCAB_SIZE, MAX_LEN, HIDDEN_DIM, DEC_HEADS, DEC_PFF_DIM, DEC_NUM_LAYERS, DEC_DROPOUT).to(device)\n",
        "seq2seq = Seq2Seq(encoder, decoder, src_padding_idx, trg_padding_idx).to(device)\n",
        "optimizer = optim.AdamW(seq2seq.parameters(), LR)"
      ],
      "execution_count": 32,
      "outputs": []
    },
    {
      "cell_type": "code",
      "metadata": {
        "id": "5dGyhSBrrsxg"
      },
      "source": [
        "def initialize_weights(m):\n",
        "    if hasattr(m, 'weight') and m.weight.dim() > 1:\n",
        "        nn.init.xavier_uniform_(m.weight.data)"
      ],
      "execution_count": 33,
      "outputs": []
    },
    {
      "cell_type": "code",
      "metadata": {
        "id": "0STqjT4KValP",
        "colab": {
          "base_uri": "https://localhost:8080/"
        },
        "outputId": "42354c5b-8407-4054-f014-6fe5b7af3120"
      },
      "source": [
        "seq2seq.apply(initialize_weights)"
      ],
      "execution_count": 34,
      "outputs": [
        {
          "output_type": "execute_result",
          "data": {
            "text/plain": [
              "Seq2Seq(\n",
              "  (encoder): Encoder(\n",
              "    (tok_embedding): Embedding(7853, 256)\n",
              "    (pos_embedding): Embedding(100, 256)\n",
              "    (enc_layers): ModuleList(\n",
              "      (0-2): 3 x Encoder_Layer(\n",
              "        (self_attn): MultiHead_Attn_Layer(\n",
              "          (fc_Q): Linear(in_features=256, out_features=256, bias=True)\n",
              "          (fc_K): Linear(in_features=256, out_features=256, bias=True)\n",
              "          (fc_V): Linear(in_features=256, out_features=256, bias=True)\n",
              "          (fc_O): Linear(in_features=256, out_features=256, bias=True)\n",
              "          (dropout): Dropout(p=0.1, inplace=False)\n",
              "        )\n",
              "        (pff): Postn_Feed_Fwrd(\n",
              "          (fc1): Linear(in_features=256, out_features=512, bias=True)\n",
              "          (fc2): Linear(in_features=512, out_features=256, bias=True)\n",
              "          (dropout): Dropout(p=0.1, inplace=False)\n",
              "        )\n",
              "        (attn_norm): LayerNorm((256,), eps=1e-05, elementwise_affine=True)\n",
              "        (pff_norm): LayerNorm((256,), eps=1e-05, elementwise_affine=True)\n",
              "        (dropout): Dropout(p=0.1, inplace=False)\n",
              "      )\n",
              "    )\n",
              "    (dropout): Dropout(p=0.1, inplace=False)\n",
              "  )\n",
              "  (decoder): Decoder(\n",
              "    (tok_embedding): Embedding(5893, 256)\n",
              "    (pos_embedding): Embedding(100, 256)\n",
              "    (dec_layers): ModuleList(\n",
              "      (0-2): 3 x Decoder_Layer(\n",
              "        (self_attn): MultiHead_Attn_Layer(\n",
              "          (fc_Q): Linear(in_features=256, out_features=256, bias=True)\n",
              "          (fc_K): Linear(in_features=256, out_features=256, bias=True)\n",
              "          (fc_V): Linear(in_features=256, out_features=256, bias=True)\n",
              "          (fc_O): Linear(in_features=256, out_features=256, bias=True)\n",
              "          (dropout): Dropout(p=0.1, inplace=False)\n",
              "        )\n",
              "        (cross_attn): MultiHead_Attn_Layer(\n",
              "          (fc_Q): Linear(in_features=256, out_features=256, bias=True)\n",
              "          (fc_K): Linear(in_features=256, out_features=256, bias=True)\n",
              "          (fc_V): Linear(in_features=256, out_features=256, bias=True)\n",
              "          (fc_O): Linear(in_features=256, out_features=256, bias=True)\n",
              "          (dropout): Dropout(p=0.1, inplace=False)\n",
              "        )\n",
              "        (pff): Postn_Feed_Fwrd(\n",
              "          (fc1): Linear(in_features=256, out_features=512, bias=True)\n",
              "          (fc2): Linear(in_features=512, out_features=256, bias=True)\n",
              "          (dropout): Dropout(p=0.1, inplace=False)\n",
              "        )\n",
              "        (attn_norm1): LayerNorm((256,), eps=1e-05, elementwise_affine=True)\n",
              "        (attn_norm2): LayerNorm((256,), eps=1e-05, elementwise_affine=True)\n",
              "        (pff_norm): LayerNorm((256,), eps=1e-05, elementwise_affine=True)\n",
              "        (dropout): Dropout(p=0.1, inplace=False)\n",
              "      )\n",
              "    )\n",
              "    (fc): Linear(in_features=256, out_features=5893, bias=True)\n",
              "    (dropout): Dropout(p=0.1, inplace=False)\n",
              "  )\n",
              ")"
            ]
          },
          "metadata": {},
          "execution_count": 34
        }
      ]
    },
    {
      "cell_type": "code",
      "metadata": {
        "id": "mnK4d2VyGinj",
        "colab": {
          "base_uri": "https://localhost:8080/"
        },
        "outputId": "46d0ecfa-ffdb-42d2-d9ee-6f09aaac1c88"
      },
      "source": [
        "def count_parameters(model):\n",
        "    return sum(p.numel() for p in model.parameters() if p.requires_grad)\n",
        "\n",
        "print(f'The model has {count_parameters(seq2seq):,} trainable parameters.')"
      ],
      "execution_count": 35,
      "outputs": [
        {
          "output_type": "stream",
          "name": "stdout",
          "text": [
            "The model has 9,038,341 trainable parameters.\n"
          ]
        }
      ]
    },
    {
      "cell_type": "markdown",
      "metadata": {
        "id": "kD3SwAEwjkVq"
      },
      "source": [
        "## Download Pre-Trained Model\n",
        "Run this section instead of the \"Training\" section if you wish to download the pre-trained model instead of training one yourself."
      ]
    },
    {
      "cell_type": "code",
      "metadata": {
        "id": "dmvTfWhbjk7V"
      },
      "source": [
        "# !wget -O Transformer.pth https://gitlab.com/rishika2110/weights/-/blob/6e88f0c7acaf5d86d803eca8abb150e0b79f95ef/neural_machine_translation/Transformer.pth"
      ],
      "execution_count": 36,
      "outputs": []
    },
    {
      "cell_type": "code",
      "metadata": {
        "id": "hRL0SdqgjlUt"
      },
      "source": [
        "# MODEL_STORE_PATH = \"Transformer.pth\""
      ],
      "execution_count": 37,
      "outputs": []
    },
    {
      "cell_type": "markdown",
      "metadata": {
        "id": "tScI3G6Rjd0Q"
      },
      "source": [
        "## Training\n",
        "Run this section only if you want to train the model yourself and store the trained weights in G-Drive."
      ]
    },
    {
      "cell_type": "code",
      "metadata": {
        "id": "nu2aAm817TBA"
      },
      "source": [
        "#drive.mount('/content/gdrive')"
      ],
      "execution_count": 38,
      "outputs": []
    },
    {
      "cell_type": "code",
      "metadata": {
        "id": "TEv7n__PkIZa"
      },
      "source": [
        "#MODEL_STORE_PATH = '/content/gdrive/My Drive/Colab/NLP/Machine Translation/Models/Transformer.pth'"
      ],
      "execution_count": 39,
      "outputs": []
    },
    {
      "cell_type": "code",
      "metadata": {
        "id": "X8yEFx9Uc2hk",
        "colab": {
          "base_uri": "https://localhost:8080/"
        },
        "outputId": "892b0f8a-0151-45d9-e8e6-68a374094aec"
      },
      "source": [
        "print(f\"Learning Rate: {LR}, Hidden Dimmensions: {HIDDEN_DIM}\")\n",
        "train_losses = []\n",
        "valid_losses = []\n",
        "prev_epoch = 1\n",
        "min_losses = [float('inf'), float('inf')]\n",
        "start_time = time.time()\n",
        "for epoch in range(1, NUM_EPOCHS + 1):\n",
        "    train_loss = Train(train_iterator, seq2seq, criterion, optimizer, CLIP)\n",
        "    train_losses.append(train_loss)\n",
        "    valid_loss = Evaluate(test_iterator, seq2seq, criterion)\n",
        "    valid_losses.append(valid_loss)\n",
        "    if valid_loss < min_losses[0]:\n",
        "        min_losses[0] = valid_loss\n",
        "        min_losses[1] = train_loss\n",
        "        #torch.save(seq2seq.state_dict(), MODEL_STORE_PATH)\n",
        "    if epoch % int(NUM_EPOCHS / 10) == 0:\n",
        "        elapsed_time = Epoch_time(start_time, time.time())\n",
        "        print(f\"Time taken for epochs {prev_epoch} to {epoch}: {elapsed_time[0]}m {elapsed_time[1]}s\")\n",
        "        start_time = time.time()\n",
        "        prev_epoch = epoch + 1\n",
        "        print(f\"Training Loss: {train_loss:.4f} | Validation Loss: {valid_loss:.4f}\")\n",
        "        print(f\"Training PPL: {math.exp(train_loss):.4f} | Validation PPL: {math.exp(valid_loss):.4f}\")\n",
        "print(f\"Model with Train Loss {min_losses[1]:.4f}, Validation Loss: {min_losses[0]:.4f} was saved.\")"
      ],
      "execution_count": 40,
      "outputs": [
        {
          "output_type": "stream",
          "name": "stdout",
          "text": [
            "Learning Rate: 0.0005, Hidden Dimmensions: 256\n",
            "Time taken for epochs 1 to 1: 0m 17s\n",
            "Training Loss: 4.2416 | Validation Loss: 3.0815\n",
            "Training PPL: 69.5165 | Validation PPL: 21.7908\n",
            "Time taken for epochs 2 to 2: 0m 14s\n",
            "Training Loss: 2.8439 | Validation Loss: 2.3292\n",
            "Training PPL: 17.1820 | Validation PPL: 10.2699\n",
            "Time taken for epochs 3 to 3: 0m 15s\n",
            "Training Loss: 2.2469 | Validation Loss: 1.9926\n",
            "Training PPL: 9.4584 | Validation PPL: 7.3347\n",
            "Time taken for epochs 4 to 4: 0m 15s\n",
            "Training Loss: 1.8913 | Validation Loss: 1.8244\n",
            "Training PPL: 6.6282 | Validation PPL: 6.1989\n",
            "Time taken for epochs 5 to 5: 0m 15s\n",
            "Training Loss: 1.6435 | Validation Loss: 1.7261\n",
            "Training PPL: 5.1730 | Validation PPL: 5.6189\n",
            "Time taken for epochs 6 to 6: 0m 14s\n",
            "Training Loss: 1.4502 | Validation Loss: 1.6879\n",
            "Training PPL: 4.2640 | Validation PPL: 5.4083\n",
            "Time taken for epochs 7 to 7: 0m 14s\n",
            "Training Loss: 1.2965 | Validation Loss: 1.6626\n",
            "Training PPL: 3.6563 | Validation PPL: 5.2728\n",
            "Time taken for epochs 8 to 8: 0m 15s\n",
            "Training Loss: 1.1705 | Validation Loss: 1.6643\n",
            "Training PPL: 3.2236 | Validation PPL: 5.2820\n",
            "Time taken for epochs 9 to 9: 0m 15s\n",
            "Training Loss: 1.0622 | Validation Loss: 1.6748\n",
            "Training PPL: 2.8927 | Validation PPL: 5.3376\n",
            "Time taken for epochs 10 to 10: 0m 15s\n",
            "Training Loss: 0.9688 | Validation Loss: 1.6891\n",
            "Training PPL: 2.6347 | Validation PPL: 5.4144\n",
            "Model with Train Loss 1.2965, Validation Loss: 1.6626 was saved.\n"
          ]
        }
      ]
    },
    {
      "cell_type": "code",
      "metadata": {
        "id": "PvDUPeEVoNhr",
        "colab": {
          "base_uri": "https://localhost:8080/",
          "height": 472
        },
        "outputId": "5c3a365a-46ee-471c-a4e8-b8997aa72536"
      },
      "source": [
        "plt.title('Learning Curves')\n",
        "plt.xlabel('Number of Epochs')\n",
        "plt.ylabel('Cross Entropy Loss')\n",
        "plt.plot(train_losses, label = 'Training Loss')\n",
        "plt.plot(valid_losses, label='Validation Loss')\n",
        "plt.legend()\n",
        "#plt.savefig('/content/gdrive/My Drive/Colab/NLP/Machine Translation/Plots/Transformer.jpeg')\n",
        "plt.show()"
      ],
      "execution_count": 41,
      "outputs": [
        {
          "output_type": "display_data",
          "data": {
            "text/plain": [
              "<Figure size 640x480 with 1 Axes>"
            ],
            "image/png": "[encoded data removed]"
          },
          "metadata": {}
        }
      ]
    },
    {
      "cell_type": "markdown",
      "metadata": {
        "id": "ZaZnaB1OkkIr"
      },
      "source": [
        "## Sampling"
      ]
    },
    {
      "cell_type": "markdown",
      "metadata": {
        "id": "41LsUUb5kgGg"
      },
      "source": [
        "Run the cell below to load the model for sampling.\n",
        "\n"
      ]
    },
    {
      "cell_type": "code",
      "metadata": {
        "id": "rJ7GdE_2kdhb",
        "colab": {
          "base_uri": "https://localhost:8080/",
          "height": 165
        },
        "outputId": "8b608daa-0d4b-4ebc-f76e-5e43bf270125"
      },
      "source": [
        "#seq2seq.load_state_dict(torch.load(MODEL_STORE_PATH))"
      ],
      "execution_count": 42,
      "outputs": [
        {
          "output_type": "error",
          "ename": "NameError",
          "evalue": "ignored",
          "traceback": [
            "\u001b[0;31m---------------------------------------------------------------------------\u001b[0m",
            "\u001b[0;31mNameError\u001b[0m                                 Traceback (most recent call last)",
            "\u001b[0;32m<ipython-input-42-264629d0da4f>\u001b[0m in \u001b[0;36m<cell line: 1>\u001b[0;34m()\u001b[0m\n\u001b[0;32m----> 1\u001b[0;31m \u001b[0mseq2seq\u001b[0m\u001b[0;34m.\u001b[0m\u001b[0mload_state_dict\u001b[0m\u001b[0;34m(\u001b[0m\u001b[0mtorch\u001b[0m\u001b[0;34m.\u001b[0m\u001b[0mload\u001b[0m\u001b[0;34m(\u001b[0m\u001b[0mMODEL_STORE_PATH\u001b[0m\u001b[0;34m)\u001b[0m\u001b[0;34m)\u001b[0m\u001b[0;34m\u001b[0m\u001b[0;34m\u001b[0m\u001b[0m\n\u001b[0m",
            "\u001b[0;31mNameError\u001b[0m: name 'MODEL_STORE_PATH' is not defined"
          ]
        }
      ]
    },
    {
      "cell_type": "code",
      "metadata": {
        "id": "yg3KY_C8kvDM",
        "colab": {
          "base_uri": "https://localhost:8080/"
        },
        "outputId": "4b904a32-3daa-478a-a4b9-a66180fa522f"
      },
      "source": [
        "seq2seq.eval()\n",
        "test_loss = Evaluate(test_iterator, seq2seq, criterion)\n",
        "print(f\"Test Loss: {test_loss:.4f} | Test PPL: {math.exp(test_loss):.4f}\")"
      ],
      "execution_count": 43,
      "outputs": [
        {
          "output_type": "stream",
          "name": "stdout",
          "text": [
            "Test Loss: 1.6891 | Test PPL: 5.4144\n"
          ]
        }
      ]
    },
    {
      "cell_type": "code",
      "metadata": {
        "id": "pFCN-vtlk2iu"
      },
      "source": [
        "def Translate(src_sentence, src_field, trg_field, model):\n",
        "    ip_tensor = ipTensor(src_sentence, src_field)\n",
        "    max_len = 4 * ip_tensor.shape[1]\n",
        "    src_mask = model.make_src_mask(ip_tensor)\n",
        "    with torch.no_grad():\n",
        "        enc_out = model.encoder(ip_tensor, src_mask)\n",
        "    sos_id = trg_field.vocab.stoi[trg_field.init_token]\n",
        "    eos_id = trg_field.vocab.stoi[trg_field.eos_token]\n",
        "    predicts = [sos_id]\n",
        "    for i in range(max_len):\n",
        "        input = torch.LongTensor(predicts).unsqueeze(0).to(device)\n",
        "        trg_mask = model.make_trg_mask(input)\n",
        "        with torch.no_grad():\n",
        "            output, attention = model.decoder(input, trg_mask, enc_out, src_mask)\n",
        "        predict_tok = output.argmax(2)[:, -1].item()\n",
        "        predicts.append(predict_tok)\n",
        "        if predict_tok == eos_id:\n",
        "            break\n",
        "    sentence = [trg_field.vocab.itos[id] for id in predicts[1:]]\n",
        "    return sentence, attention"
      ],
      "execution_count": 44,
      "outputs": []
    },
    {
      "cell_type": "code",
      "metadata": {
        "id": "tk80m605lCG7",
        "colab": {
          "base_uri": "https://localhost:8080/"
        },
        "outputId": "b901f8fe-72e3-4b28-d7cc-775cb8fa9559"
      },
      "source": [
        "ind = int(random.random() * len(test_data.examples))\n",
        "example = test_data.examples[ind]\n",
        "src_sentence = example.src\n",
        "trg_sentence = example.trg\n",
        "print(\"German Sentence: \", ' '.join(src_sentence))\n",
        "translation, attention = Translate(src_sentence, SOURCE_Field, TARGET_Field, seq2seq)\n",
        "print(\"Predicted Translation: \", ' '.join(translation[:-1]))\n",
        "print(\"Actual Translation: \", ' '.join(trg_sentence))"
      ],
      "execution_count": 45,
      "outputs": [
        {
          "output_type": "stream",
          "name": "stdout",
          "text": [
            "German Sentence:  vier schwarze männer sitzen auf den stufen einer kirche .\n",
            "Predicted Translation:  four black men sit on the steps of a church .\n",
            "Actual Translation:  four black men are sitting on the steps of a church .\n"
          ]
        }
      ]
    },
    {
      "cell_type": "markdown",
      "metadata": {
        "id": "xicLWnRCl1ow"
      },
      "source": [
        "## Display Attention"
      ]
    },
    {
      "cell_type": "code",
      "metadata": {
        "id": "ICpLC14Wk5ym"
      },
      "source": [
        "def Disp_Attn(sentence, translation, attention, n_heads = 8, n_rows = 4, n_cols = 2):\n",
        "    assert n_rows * n_cols == n_heads\n",
        "    fig = plt.figure(figsize=(15,25))\n",
        "    for i in range(n_heads):\n",
        "        ax = fig.add_subplot(n_rows, n_cols, i+1)\n",
        "        _attention = attention.squeeze(0)[i].cpu().detach().numpy()\n",
        "        cax = ax.matshow(_attention, cmap='bone')\n",
        "        ax.tick_params(labelsize=12)\n",
        "        ax.set_xticklabels(['']+['<sos>']+[t.lower() for t in sentence]+['<eos>'], rotation=45)\n",
        "        ax.set_yticklabels(['']+translation)\n",
        "        ax.xaxis.set_major_locator(ticker.MultipleLocator(1))\n",
        "        ax.yaxis.set_major_locator(ticker.MultipleLocator(1))\n",
        "    plt.show()\n",
        "    plt.close()"
      ],
      "execution_count": 46,
      "outputs": []
    },
    {
      "cell_type": "code",
      "metadata": {
        "id": "Z-MWXrqJk9JD",
        "colab": {
          "base_uri": "https://localhost:8080/",
          "height": 1000
        },
        "outputId": "c627b718-bc58-48b0-f82a-ca3952c98fb3"
      },
      "source": [
        "Disp_Attn(src_sentence, translation, attention)"
      ],
      "execution_count": 47,
      "outputs": [
        {
          "output_type": "stream",
          "name": "stderr",
          "text": [
            "<ipython-input-46-30e8ef495b8b>:9: UserWarning: FixedFormatter should only be used together with FixedLocator\n",
            "  ax.set_xticklabels(['']+['<sos>']+[t.lower() for t in sentence]+['<eos>'], rotation=45)\n",
            "<ipython-input-46-30e8ef495b8b>:10: UserWarning: FixedFormatter should only be used together with FixedLocator\n",
            "  ax.set_yticklabels(['']+translation)\n"
          ]
        },
        {
          "output_type": "display_data",
          "data": {
            "text/plain": [
              "<Figure size 1500x2500 with 8 Axes>"
            ],
            "image/png": "[encoded data removed]"
          },
          "metadata": {}
        }
      ]
    },
    {
      "cell_type": "markdown",
      "metadata": {
        "id": "6DSmaivml4tK"
      },
      "source": [
        "## BLEU Score"
      ]
    },
    {
      "cell_type": "code",
      "metadata": {
        "id": "xh2uCLq8_Yy8"
      },
      "source": [
        "def Calculate_BLEU(data, src_field, trg_field, model):\n",
        "    trgs = []\n",
        "    predicted_trgs = []\n",
        "    for i in range(len(data.examples)):\n",
        "        src_sentence = vars(data[i])['src']\n",
        "        trg_sentence = vars(data[i])['trg']\n",
        "        try:                                # Sometimes(rarely) CUDA throws a \"Device side assert triggered\" error. So, just to avoid restarting runtime.\n",
        "            predicted_trg, _ = Translate(src_sentence, src_field, trg_field, model)\n",
        "            predicted_trgs.append(predicted_trg[:-1])\n",
        "            trgs.append([trg_sentence])\n",
        "        except:\n",
        "            pass\n",
        "    return bleu_score(predicted_trgs, trgs)"
      ],
      "execution_count": 48,
      "outputs": []
    },
    {
      "cell_type": "code",
      "metadata": {
        "id": "RCp4HgVe20UL",
        "colab": {
          "base_uri": "https://localhost:8080/"
        },
        "outputId": "4f6d75cb-904b-4026-f96e-2622432984c6"
      },
      "source": [
        "bleu_score_test = Calculate_BLEU(test_data, SOURCE_Field, TARGET_Field, seq2seq)\n",
        "print(f\"BLEU score on Testing Data: {bleu_score_test*100:.2f}\")"
      ],
      "execution_count": 49,
      "outputs": [
        {
          "output_type": "stream",
          "name": "stdout",
          "text": [
            "BLEU score on Testing Data: 35.71\n"
          ]
        }
      ]
    },
    {
      "cell_type": "code",
      "metadata": {
        "id": "Y5kFRlgO4b3Q"
      },
      "source": [],
      "execution_count": 49,
      "outputs": []
    }
  ]
}