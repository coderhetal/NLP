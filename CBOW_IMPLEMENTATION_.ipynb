{
  "nbformat": 4,
  "nbformat_minor": 0,
  "metadata": {
    "colab": {
      "provenance": [],
      "include_colab_link": true
    },
    "kernelspec": {
      "name": "python3",
      "display_name": "Python 3"
    },
    "language_info": {
      "name": "python"
    }
  },
  "cells": [
    {
      "cell_type": "markdown",
      "metadata": {
        "id": "view-in-github",
        "colab_type": "text"
      },
      "source": [
        "<a href=\"https://colab.research.google.com/github/coderhetal/NLP/blob/main/CBOW_IMPLEMENTATION_.ipynb\" target=\"_parent\"><img src=\"https://colab.research.google.com/assets/colab-badge.svg\" alt=\"Open In Colab\"/></a>"
      ]
    },
    {
      "cell_type": "code",
      "execution_count": null,
      "metadata": {
        "id": "IwpXTKGMwwvL"
      },
      "outputs": [],
      "source": [
        "import torch\n",
        "import numpy as np\n",
        "import torch.nn as nn\n",
        "import matplotlib.pyplot as plt\n",
        "import torch.nn.functional as Fun"
      ]
    },
    {
      "cell_type": "code",
      "source": [
        "text = '''Artificial intelligence (AI) is intelligence—perceiving,\n",
        " synthesizing, and inferring information—demonstrated by machines, \n",
        " as opposed to intelligence displayed by non-human animals and humans.\n",
        " Example tasks in which this is done include speech recognition, computer \n",
        " vision, translation between (natural) languages, as well as other mappings of inputs.'''.split()\n"
      ],
      "metadata": {
        "id": "skgDcQsaxDOX"
      },
      "execution_count": null,
      "outputs": []
    },
    {
      "cell_type": "code",
      "source": [
        "\n",
        "vocab = set(text)\n",
        "vocab_size = len(vocab)\n",
        "\n",
        "word_to_index = {w: index for (index, w) in enumerate(vocab)}\n",
        "index_to_word = {index: w for (index, w) in enumerate(vocab)}\n",
        "\n",
        "print(word_to_index)\n",
        "print(index_to_word)"
      ],
      "metadata": {
        "colab": {
          "base_uri": "https://localhost:8080/"
        },
        "id": "2x0-4z-rPPW9",
        "outputId": "51857c9c-768f-4e31-dd27-334e18753c58"
      },
      "execution_count": null,
      "outputs": [
        {
          "output_type": "stream",
          "name": "stdout",
          "text": [
            "{'by': 0, 'mappings': 1, '(natural)': 2, 'synthesizing,': 3, 'which': 4, 'in': 5, 'languages,': 6, 'computer': 7, 'is': 8, 'of': 9, 'this': 10, 'Example': 11, 'tasks': 12, 'inputs.': 13, 'well': 14, 'non-human': 15, 'machines,': 16, 'recognition,': 17, 'done': 18, 'intelligence—perceiving,': 19, 'displayed': 20, 'humans.': 21, 'between': 22, '(AI)': 23, 'speech': 24, 'inferring': 25, 'to': 26, 'translation': 27, 'animals': 28, 'vision,': 29, 'other': 30, 'Artificial': 31, 'and': 32, 'information—demonstrated': 33, 'as': 34, 'intelligence': 35, 'include': 36, 'opposed': 37}\n",
            "{0: 'by', 1: 'mappings', 2: '(natural)', 3: 'synthesizing,', 4: 'which', 5: 'in', 6: 'languages,', 7: 'computer', 8: 'is', 9: 'of', 10: 'this', 11: 'Example', 12: 'tasks', 13: 'inputs.', 14: 'well', 15: 'non-human', 16: 'machines,', 17: 'recognition,', 18: 'done', 19: 'intelligence—perceiving,', 20: 'displayed', 21: 'humans.', 22: 'between', 23: '(AI)', 24: 'speech', 25: 'inferring', 26: 'to', 27: 'translation', 28: 'animals', 29: 'vision,', 30: 'other', 31: 'Artificial', 32: 'and', 33: 'information—demonstrated', 34: 'as', 35: 'intelligence', 36: 'include', 37: 'opposed'}\n"
          ]
        }
      ]
    },
    {
      "cell_type": "code",
      "source": [
        "data = []\n",
        "labels = []\n",
        "n = 0\n",
        "for i in range(2, len(text) - 2):\n",
        "  n +=1\n",
        "  context_vec = [word_to_index[text[i - 2]], word_to_index[text[i - 1]],\n",
        "                word_to_index[text[i + 1]], word_to_index[text[i + 2]]]\n",
        "  context_vec = torch.tensor(context_vec, dtype=torch.long)\n",
        "  context = Fun.one_hot(context_vec, num_classes = vocab_size)\n",
        "  context = torch.sum(context, dim = 0, keepdim = True)\n",
        "  target = torch.tensor(word_to_index[text[i]])\n",
        "  labels.append(target)\n",
        "  target = Fun.one_hot(target, num_classes = vocab_size)\n",
        "  data.append((context, target))\n",
        "print(n)"
      ],
      "metadata": {
        "id": "N7tzzmj7PH0E",
        "colab": {
          "base_uri": "https://localhost:8080/"
        },
        "outputId": "8a45d417-8111-48bc-c0d8-a37fd218723d"
      },
      "execution_count": null,
      "outputs": [
        {
          "output_type": "stream",
          "name": "stdout",
          "text": [
            "40\n"
          ]
        }
      ]
    },
    {
      "cell_type": "code",
      "source": [
        "class CBOW(nn.Module):\n",
        "    def __init__(self, vocab_size, embedding_dim):\n",
        "      super(CBOW, self).__init__()\n",
        "      self.L1 = nn.Linear(vocab_size, embedding_dim, bias = False)\n",
        "      self.L3 = nn.Linear(embedding_dim, vocab_size)\n",
        "\n",
        "    def forward(self, x):\n",
        "      out = Fun.relu(self.L1(x))\n",
        "      out = Fun.softmax(self.L3(out), dim = 1)\n",
        "      return out"
      ],
      "metadata": {
        "id": "FxVnPL_I_Rmt"
      },
      "execution_count": null,
      "outputs": []
    },
    {
      "cell_type": "code",
      "source": [
        "model = CBOW(vocab_size, 32)\n",
        "criterion = nn.CrossEntropyLoss()\n",
        "optimizer = torch.optim.Adam(model.parameters(), lr=0.01)"
      ],
      "metadata": {
        "id": "fmkSk7xreMkF"
      },
      "execution_count": null,
      "outputs": []
    },
    {
      "cell_type": "code",
      "source": [
        "loss_func = []\n",
        "accuracy = []\n",
        "\n",
        "for i in range(0,200):\n",
        "  loss = 0\n",
        "  acc = 0\n",
        "  for k, (context, target) in enumerate(data):\n",
        "    output = model(context.float())\n",
        "    loss += criterion(output.squeeze(0), target.float())\n",
        "    _, predicted = torch.max(output.data , 1)\n",
        "    if(predicted == labels[k]):\n",
        "      acc += 1\n",
        "  loss_func.append(float(loss))\n",
        "  accuracy.append(acc/n*100)\n",
        "  if(i%10 == 0):\n",
        "    print(loss)\n",
        "    print(acc/n*100)\n",
        "  optimizer.zero_grad()\n",
        "  loss.backward()\n",
        "  optimizer.step()"
      ],
      "metadata": {
        "colab": {
          "base_uri": "https://localhost:8080/"
        },
        "id": "A1sGXcZ3e7Ex",
        "outputId": "d378ba37-a4ce-4187-9306-75974d87d237"
      },
      "execution_count": null,
      "outputs": [
        {
          "output_type": "stream",
          "name": "stdout",
          "text": [
            "tensor(145.5397, grad_fn=<AddBackward0>)\n",
            "0.0\n",
            "tensor(144.3951, grad_fn=<AddBackward0>)\n",
            "32.5\n",
            "tensor(138.6757, grad_fn=<AddBackward0>)\n",
            "50.0\n",
            "tensor(127.3124, grad_fn=<AddBackward0>)\n",
            "72.5\n",
            "tensor(116.8836, grad_fn=<AddBackward0>)\n",
            "85.0\n",
            "tensor(111.5670, grad_fn=<AddBackward0>)\n",
            "92.5\n",
            "tensor(110.6289, grad_fn=<AddBackward0>)\n",
            "92.5\n",
            "tensor(110.3750, grad_fn=<AddBackward0>)\n",
            "92.5\n",
            "tensor(109.6115, grad_fn=<AddBackward0>)\n",
            "95.0\n",
            "tensor(109.4138, grad_fn=<AddBackward0>)\n",
            "95.0\n",
            "tensor(109.3070, grad_fn=<AddBackward0>)\n",
            "95.0\n",
            "tensor(109.0342, grad_fn=<AddBackward0>)\n",
            "95.0\n",
            "tensor(108.3702, grad_fn=<AddBackward0>)\n",
            "97.5\n",
            "tensor(108.3156, grad_fn=<AddBackward0>)\n",
            "97.5\n",
            "tensor(108.2998, grad_fn=<AddBackward0>)\n",
            "97.5\n",
            "tensor(108.2951, grad_fn=<AddBackward0>)\n",
            "97.5\n",
            "tensor(108.2912, grad_fn=<AddBackward0>)\n",
            "97.5\n",
            "tensor(108.2880, grad_fn=<AddBackward0>)\n",
            "97.5\n",
            "tensor(108.2855, grad_fn=<AddBackward0>)\n",
            "97.5\n",
            "tensor(108.2834, grad_fn=<AddBackward0>)\n",
            "97.5\n"
          ]
        }
      ]
    },
    {
      "cell_type": "code",
      "source": [
        "plt.plot(loss_func)\n",
        "plt.title(\"CBOW Loss\")\n",
        "plt.show()\n",
        "plt.plot(accuracy)\n",
        "plt.title(\"CBOW Accuracy\")\n",
        "plt.show()"
      ],
      "metadata": {
        "id": "gagAwOt6tucG",
        "colab": {
          "base_uri": "https://localhost:8080/",
          "height": 545
        },
        "outputId": "8b117a7c-0a9f-4e97-abf8-05e0bea5c351"
      },
      "execution_count": null,
      "outputs": [
        {
          "output_type": "display_data",
          "data": {
            "text/plain": [
              "<Figure size 432x288 with 1 Axes>"
            ],
            "image/png": "[encoded data removed]"
          },
          "metadata": {
            "needs_background": "light"
          }
        },
        {
          "output_type": "display_data",
          "data": {
            "text/plain": [
              "<Figure size 432x288 with 1 Axes>"
            ],
            "image/png": "[encoded data removed]"
          },
          "metadata": {
            "needs_background": "light"
          }
        }
      ]
    },
    {
      "cell_type": "code",
      "source": [
        "\n",
        "txt = input('Enter a text : ')\n",
        "txt1 = txt.split()\n",
        "vec = [word_to_index[txt1[0]], word_to_index[txt1[1]], word_to_index[txt1[2]], word_to_index[txt1[3]]]\n",
        "vec = torch.tensor(vec, dtype = torch.long)\n",
        "cntxt = Fun.one_hot(vec, num_classes = vocab_size)\n",
        "cntxt = torch.sum(cntxt, dim = 0, keepdim = True)\n",
        "output = model(cntxt.float())\n",
        "_, predicted = torch.max(output.data , 1)\n",
        "print('Predicted : ', index_to_word[int(predicted)])"
      ],
      "metadata": {
        "id": "V4HODywDseI2",
        "colab": {
          "base_uri": "https://localhost:8080/",
          "height": 380
        },
        "outputId": "56b59a72-df1b-452c-daee-7dd6542020e7"
      },
      "execution_count": null,
      "outputs": [
        {
          "output_type": "error",
          "ename": "KeyboardInterrupt",
          "evalue": "ignored",
          "traceback": [
            "\u001b[0;31m---------------------------------------------------------------------------\u001b[0m",
            "\u001b[0;31mKeyboardInterrupt\u001b[0m                         Traceback (most recent call last)",
            "\u001b[0;32m<ipython-input-66-c88bc4465550>\u001b[0m in \u001b[0;36m<module>\u001b[0;34m\u001b[0m\n\u001b[0;32m----> 1\u001b[0;31m \u001b[0mtxt\u001b[0m \u001b[0;34m=\u001b[0m \u001b[0minput\u001b[0m\u001b[0;34m(\u001b[0m\u001b[0;34m'Enter a text : '\u001b[0m\u001b[0;34m)\u001b[0m\u001b[0;34m\u001b[0m\u001b[0;34m\u001b[0m\u001b[0m\n\u001b[0m\u001b[1;32m      2\u001b[0m \u001b[0mtxt1\u001b[0m \u001b[0;34m=\u001b[0m \u001b[0mtxt\u001b[0m\u001b[0;34m.\u001b[0m\u001b[0msplit\u001b[0m\u001b[0;34m(\u001b[0m\u001b[0;34m)\u001b[0m\u001b[0;34m\u001b[0m\u001b[0;34m\u001b[0m\u001b[0m\n\u001b[1;32m      3\u001b[0m \u001b[0mvec\u001b[0m \u001b[0;34m=\u001b[0m \u001b[0;34m[\u001b[0m\u001b[0mword_to_index\u001b[0m\u001b[0;34m[\u001b[0m\u001b[0mtxt1\u001b[0m\u001b[0;34m[\u001b[0m\u001b[0;36m0\u001b[0m\u001b[0;34m]\u001b[0m\u001b[0;34m]\u001b[0m\u001b[0;34m,\u001b[0m \u001b[0mword_to_index\u001b[0m\u001b[0;34m[\u001b[0m\u001b[0mtxt1\u001b[0m\u001b[0;34m[\u001b[0m\u001b[0;36m1\u001b[0m\u001b[0;34m]\u001b[0m\u001b[0;34m]\u001b[0m\u001b[0;34m,\u001b[0m \u001b[0mword_to_index\u001b[0m\u001b[0;34m[\u001b[0m\u001b[0mtxt1\u001b[0m\u001b[0;34m[\u001b[0m\u001b[0;36m2\u001b[0m\u001b[0;34m]\u001b[0m\u001b[0;34m]\u001b[0m\u001b[0;34m,\u001b[0m \u001b[0mword_to_index\u001b[0m\u001b[0;34m[\u001b[0m\u001b[0mtxt1\u001b[0m\u001b[0;34m[\u001b[0m\u001b[0;36m3\u001b[0m\u001b[0;34m]\u001b[0m\u001b[0;34m]\u001b[0m\u001b[0;34m]\u001b[0m\u001b[0;34m\u001b[0m\u001b[0;34m\u001b[0m\u001b[0m\n\u001b[1;32m      4\u001b[0m \u001b[0mvec\u001b[0m \u001b[0;34m=\u001b[0m \u001b[0mtorch\u001b[0m\u001b[0;34m.\u001b[0m\u001b[0mtensor\u001b[0m\u001b[0;34m(\u001b[0m\u001b[0mvec\u001b[0m\u001b[0;34m,\u001b[0m \u001b[0mdtype\u001b[0m \u001b[0;34m=\u001b[0m \u001b[0mtorch\u001b[0m\u001b[0;34m.\u001b[0m\u001b[0mlong\u001b[0m\u001b[0;34m)\u001b[0m\u001b[0;34m\u001b[0m\u001b[0;34m\u001b[0m\u001b[0m\n\u001b[1;32m      5\u001b[0m \u001b[0mcntxt\u001b[0m \u001b[0;34m=\u001b[0m \u001b[0mFun\u001b[0m\u001b[0;34m.\u001b[0m\u001b[0mone_hot\u001b[0m\u001b[0;34m(\u001b[0m\u001b[0mvec\u001b[0m\u001b[0;34m,\u001b[0m \u001b[0mnum_classes\u001b[0m \u001b[0;34m=\u001b[0m \u001b[0mvocab_size\u001b[0m\u001b[0;34m)\u001b[0m\u001b[0;34m\u001b[0m\u001b[0;34m\u001b[0m\u001b[0m\n",
            "\u001b[0;32m/usr/local/lib/python3.8/dist-packages/ipykernel/kernelbase.py\u001b[0m in \u001b[0;36mraw_input\u001b[0;34m(self, prompt)\u001b[0m\n\u001b[1;32m    858\u001b[0m                 \u001b[0;34m\"raw_input was called, but this frontend does not support input requests.\"\u001b[0m\u001b[0;34m\u001b[0m\u001b[0;34m\u001b[0m\u001b[0m\n\u001b[1;32m    859\u001b[0m             )\n\u001b[0;32m--> 860\u001b[0;31m         return self._input_request(str(prompt),\n\u001b[0m\u001b[1;32m    861\u001b[0m             \u001b[0mself\u001b[0m\u001b[0;34m.\u001b[0m\u001b[0m_parent_ident\u001b[0m\u001b[0;34m,\u001b[0m\u001b[0;34m\u001b[0m\u001b[0;34m\u001b[0m\u001b[0m\n\u001b[1;32m    862\u001b[0m             \u001b[0mself\u001b[0m\u001b[0;34m.\u001b[0m\u001b[0m_parent_header\u001b[0m\u001b[0;34m,\u001b[0m\u001b[0;34m\u001b[0m\u001b[0;34m\u001b[0m\u001b[0m\n",
            "\u001b[0;32m/usr/local/lib/python3.8/dist-packages/ipykernel/kernelbase.py\u001b[0m in \u001b[0;36m_input_request\u001b[0;34m(self, prompt, ident, parent, password)\u001b[0m\n\u001b[1;32m    902\u001b[0m             \u001b[0;32mexcept\u001b[0m \u001b[0mKeyboardInterrupt\u001b[0m\u001b[0;34m:\u001b[0m\u001b[0;34m\u001b[0m\u001b[0;34m\u001b[0m\u001b[0m\n\u001b[1;32m    903\u001b[0m                 \u001b[0;31m# re-raise KeyboardInterrupt, to truncate traceback\u001b[0m\u001b[0;34m\u001b[0m\u001b[0;34m\u001b[0m\u001b[0;34m\u001b[0m\u001b[0m\n\u001b[0;32m--> 904\u001b[0;31m                 \u001b[0;32mraise\u001b[0m \u001b[0mKeyboardInterrupt\u001b[0m\u001b[0;34m(\u001b[0m\u001b[0;34m\"Interrupted by user\"\u001b[0m\u001b[0;34m)\u001b[0m \u001b[0;32mfrom\u001b[0m \u001b[0;32mNone\u001b[0m\u001b[0;34m\u001b[0m\u001b[0;34m\u001b[0m\u001b[0m\n\u001b[0m\u001b[1;32m    905\u001b[0m             \u001b[0;32mexcept\u001b[0m \u001b[0mException\u001b[0m \u001b[0;32mas\u001b[0m \u001b[0me\u001b[0m\u001b[0;34m:\u001b[0m\u001b[0;34m\u001b[0m\u001b[0;34m\u001b[0m\u001b[0m\n\u001b[1;32m    906\u001b[0m                 \u001b[0mself\u001b[0m\u001b[0;34m.\u001b[0m\u001b[0mlog\u001b[0m\u001b[0;34m.\u001b[0m\u001b[0mwarning\u001b[0m\u001b[0;34m(\u001b[0m\u001b[0;34m\"Invalid Message:\"\u001b[0m\u001b[0;34m,\u001b[0m \u001b[0mexc_info\u001b[0m\u001b[0;34m=\u001b[0m\u001b[0;32mTrue\u001b[0m\u001b[0;34m)\u001b[0m\u001b[0;34m\u001b[0m\u001b[0;34m\u001b[0m\u001b[0m\n",
            "\u001b[0;31mKeyboardInterrupt\u001b[0m: Interrupted by user"
          ]
        }
      ]
    },
    {
      "cell_type": "code",
      "source": [
        "for name, param in model.named_parameters():\n",
        "  if 'L1.weight' in name:\n",
        "    embed = param.detach().numpy()\n",
        "    embed = embed.T\n",
        "    print('Embedding shape : ', embed.shape)\n",
        "    print(embed)"
      ],
      "metadata": {
        "colab": {
          "base_uri": "https://localhost:8080/"
        },
        "id": "BlKRHtPGnXsr",
        "outputId": "0e655410-bb37-4632-fad9-d7711e314120"
      },
      "execution_count": null,
      "outputs": [
        {
          "output_type": "stream",
          "name": "stdout",
          "text": [
            "Embedding shape :  (38, 32)\n",
            "[[ 0.52452797 -0.28557217  0.7030672  ...  0.65564924  0.4290696\n",
            "   0.6906217 ]\n",
            " [ 0.6302486  -0.04244602  0.365474   ... -0.02744117  0.47358236\n",
            "   0.39210248]\n",
            " [ 0.0407571  -0.48171958 -0.3449449  ... -0.38916752 -0.7759368\n",
            "  -0.690394  ]\n",
            " ...\n",
            " [-0.05889983  0.8762915   0.43384907 ...  0.45970446  0.6975603\n",
            "  -0.8498273 ]\n",
            " [ 0.7567948   0.2679356  -0.04696415 ...  0.7102036   0.6001923\n",
            "   0.4986135 ]\n",
            " [ 0.22058953  0.26743212  0.79093283 ...  0.11354476 -0.44879603\n",
            "   0.5658631 ]]\n"
          ]
        }
      ]
    },
    {
      "cell_type": "code",
      "source": [
        "w1 = input('Enter word-1 : ')\n",
        "w2 = input('Enter word-2 : ')\n",
        "w3 = input('Enter word-3 : ')\n",
        "cos_dist1 = np.dot(embed[word_to_index[w1]], embed[word_to_index[w2]])\n",
        "cos_dist2 = np.dot(embed[word_to_index[w2]], embed[word_to_index[w3]])\n",
        "cos_dist3 = np.dot(embed[word_to_index[w1]], embed[word_to_index[w3]])\n",
        "print('The cosine distance between word-1 and word-2 is : ', cos_dist1)\n",
        "print('The cosine distance between word-2 and word-3 is : ', cos_dist2)\n",
        "print('The cosine distance between word-1 and word-3 is : ', cos_dist3)"
      ],
      "metadata": {
        "id": "6pUJiKBCYy9N"
      },
      "execution_count": null,
      "outputs": []
    },
    {
      "cell_type": "code",
      "source": [
        "def PCA(embedding):\n",
        "  corr = np.corrcoef(embedding)\n",
        "  values,vectors = np.linalg.eig(corr)\n",
        "  args = (-values).argsort()\n",
        "  values = vectors[args]\n",
        "  vectors = vectors[:, args]\n",
        "  new_vectors=vectors[:,:2]\n",
        "  return np.multiply(embedding[:,:2], new_vectors)"
      ],
      "metadata": {
        "id": "npJeBel7viXm"
      },
      "execution_count": null,
      "outputs": []
    },
    {
      "cell_type": "code",
      "source": [
        "pca = PCA(embed)\n",
        "print(pca.shape)\n",
        "plt.figure(figsize=(13,7))\n",
        "plt.scatter(pca[:,0], pca[:,1])\n",
        "plt.title(\"Word Embedding Space\",size=20)\n",
        "for i, word in enumerate(vocab):\n",
        "  plt.annotate(word,xy=(pca[i,0],pca[i,1]))"
      ],
      "metadata": {
        "colab": {
          "base_uri": "https://localhost:8080/",
          "height": 709
        },
        "id": "Z5O-17qRxZ9q",
        "outputId": "9c855fff-63ca-459b-9328-3ade3bfe14fd"
      },
      "execution_count": null,
      "outputs": [
        {
          "output_type": "stream",
          "name": "stdout",
          "text": [
            "(38, 2)\n"
          ]
        },
        {
          "output_type": "stream",
          "name": "stderr",
          "text": [
            "/usr/local/lib/python3.8/dist-packages/matplotlib/collections.py:153: ComplexWarning: Casting complex values to real discards the imaginary part\n",
            "  offsets = np.asanyarray(offsets, float)\n",
            "/usr/local/lib/python3.8/dist-packages/matplotlib/text.py:1769: ComplexWarning: Casting complex values to real discards the imaginary part\n",
            "  x = float(self.convert_xunits(x))\n",
            "/usr/local/lib/python3.8/dist-packages/matplotlib/text.py:1771: ComplexWarning: Casting complex values to real discards the imaginary part\n",
            "  y = float(self.convert_yunits(y))\n",
            "/usr/local/lib/python3.8/dist-packages/matplotlib/text.py:828: ComplexWarning: Casting complex values to real discards the imaginary part\n",
            "  x = float(self.convert_xunits(self._x))\n",
            "/usr/local/lib/python3.8/dist-packages/matplotlib/text.py:829: ComplexWarning: Casting complex values to real discards the imaginary part\n",
            "  y = float(self.convert_yunits(self._y))\n",
            "/usr/local/lib/python3.8/dist-packages/matplotlib/text.py:690: ComplexWarning: Casting complex values to real discards the imaginary part\n",
            "  posx = float(textobj.convert_xunits(textobj._x))\n",
            "/usr/local/lib/python3.8/dist-packages/matplotlib/text.py:691: ComplexWarning: Casting complex values to real discards the imaginary part\n",
            "  posy = float(textobj.convert_yunits(textobj._y))\n"
          ]
        },
        {
          "output_type": "display_data",
          "data": {
            "text/plain": [
              "<Figure size 936x504 with 1 Axes>"
            ],
            "image/png": "[encoded data removed]"
          },
          "metadata": {
            "needs_background": "light"
          }
        }
      ]
    }
  ]
}